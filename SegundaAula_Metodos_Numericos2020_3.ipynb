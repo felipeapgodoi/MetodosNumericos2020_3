{
  "nbformat": 4,
  "nbformat_minor": 0,
  "metadata": {
    "colab": {
      "name": "SegundaAula_Metodos Numericos2020_3.ipynb",
      "provenance": [],
      "collapsed_sections": [],
      "authorship_tag": "ABX9TyMrBBlrgyILdCW8CFM4y6Ku",
      "include_colab_link": true
    },
    "kernelspec": {
      "name": "python3",
      "display_name": "Python 3"
    }
  },
  "cells": [
    {
      "cell_type": "markdown",
      "metadata": {
        "id": "view-in-github",
        "colab_type": "text"
      },
      "source": [
        "<a href=\"https://colab.research.google.com/github/felipeapgodoi/MetodosNumericos2020_3/blob/master/SegundaAula_Metodos_Numericos2020_3.ipynb\" target=\"_parent\"><img src=\"https://colab.research.google.com/assets/colab-badge.svg\" alt=\"Open In Colab\"/></a>"
      ]
    },
    {
      "cell_type": "code",
      "metadata": {
        "id": "zsFKlLYC4s5O",
        "colab_type": "code",
        "colab": {
          "base_uri": "https://localhost:8080/",
          "height": 51
        },
        "outputId": "f7264c78-a05c-4b46-d44a-04f16393cb81"
      },
      "source": [
        "#testando o primeiro comando\n",
        "print ('Hello world')\n",
        "print ('hello world, i am envolving' )"
      ],
      "execution_count": 1,
      "outputs": [
        {
          "output_type": "stream",
          "text": [
            "Hello world\n",
            "hello world, i am envolving\n"
          ],
          "name": "stdout"
        }
      ]
    },
    {
      "cell_type": "code",
      "metadata": {
        "id": "jcbb2ewU8Bg7",
        "colab_type": "code",
        "colab": {
          "base_uri": "https://localhost:8080/",
          "height": 153
        },
        "outputId": "fc5dc224-d564-4aa2-8e38-d2bb2dcf1bf9"
      },
      "source": [
        "for k in range(2):\n",
        "  for i in range(2):\n",
        "    for j in range(2):\n",
        "      print ('k=',k,'i=',i,'j=',j)"
      ],
      "execution_count": 2,
      "outputs": [
        {
          "output_type": "stream",
          "text": [
            "k= 0 i= 0 j= 0\n",
            "k= 0 i= 0 j= 1\n",
            "k= 0 i= 1 j= 0\n",
            "k= 0 i= 1 j= 1\n",
            "k= 1 i= 0 j= 0\n",
            "k= 1 i= 0 j= 1\n",
            "k= 1 i= 1 j= 0\n",
            "k= 1 i= 1 j= 1\n"
          ],
          "name": "stdout"
        }
      ]
    },
    {
      "cell_type": "code",
      "metadata": {
        "id": "OZqO7JSu-LlK",
        "colab_type": "code",
        "colab": {
          "base_uri": "https://localhost:8080/",
          "height": 187
        },
        "outputId": "7c751d0a-ad20-4eb4-90d1-27aeec2c5c79"
      },
      "source": [
        "for k in range(2):\n",
        "  for i in range(2):\n",
        "    for j in range(2):\n",
        "      print ('k=',k,'i=',i,'j=',j)\n",
        "  print('==================')"
      ],
      "execution_count": 3,
      "outputs": [
        {
          "output_type": "stream",
          "text": [
            "k= 0 i= 0 j= 0\n",
            "k= 0 i= 0 j= 1\n",
            "k= 0 i= 1 j= 0\n",
            "k= 0 i= 1 j= 1\n",
            "==================\n",
            "k= 1 i= 0 j= 0\n",
            "k= 1 i= 0 j= 1\n",
            "k= 1 i= 1 j= 0\n",
            "k= 1 i= 1 j= 1\n",
            "==================\n"
          ],
          "name": "stdout"
        }
      ]
    },
    {
      "cell_type": "code",
      "metadata": {
        "id": "Em4HSxyI_rn8",
        "colab_type": "code",
        "colab": {
          "base_uri": "https://localhost:8080/",
          "height": 68
        },
        "outputId": "f4cd635b-c439-4bd6-e9b9-f4e70ccca8ec"
      },
      "source": [
        "x=[]#lista exemplo\n",
        "w=[]\n",
        "for i in range(3):\n",
        "  for j in range(3):\n",
        "    x.append(j)\n",
        "  w.append(x)\n",
        "  print(w)"
      ],
      "execution_count": 4,
      "outputs": [
        {
          "output_type": "stream",
          "text": [
            "[[0, 1, 2]]\n",
            "[[0, 1, 2, 0, 1, 2], [0, 1, 2, 0, 1, 2]]\n",
            "[[0, 1, 2, 0, 1, 2, 0, 1, 2], [0, 1, 2, 0, 1, 2, 0, 1, 2], [0, 1, 2, 0, 1, 2, 0, 1, 2]]\n"
          ],
          "name": "stdout"
        }
      ]
    },
    {
      "cell_type": "code",
      "metadata": {
        "id": "rBgi_AOWBjaz",
        "colab_type": "code",
        "colab": {
          "base_uri": "https://localhost:8080/",
          "height": 34
        },
        "outputId": "6ef908e7-5016-4b75-95b0-6d446aade2c8"
      },
      "source": [
        "#lista exemplo\n",
        "y=[]\n",
        "for i in range(3):\n",
        "  x=[]\n",
        "  for j in range(3):\n",
        "    x.append(j)\n",
        "  y.append(x)\n",
        "print(y)"
      ],
      "execution_count": 5,
      "outputs": [
        {
          "output_type": "stream",
          "text": [
            "[[0, 1, 2], [0, 1, 2], [0, 1, 2]]\n"
          ],
          "name": "stdout"
        }
      ]
    },
    {
      "cell_type": "code",
      "metadata": {
        "id": "QiCciPywC8lM",
        "colab_type": "code",
        "colab": {
          "base_uri": "https://localhost:8080/",
          "height": 34
        },
        "outputId": "63191199-d98e-4bf4-9b8a-1ec1a46002b9"
      },
      "source": [
        "print(y)"
      ],
      "execution_count": 6,
      "outputs": [
        {
          "output_type": "stream",
          "text": [
            "[[0, 1, 2], [0, 1, 2], [0, 1, 2]]\n"
          ],
          "name": "stdout"
        }
      ]
    },
    {
      "cell_type": "code",
      "metadata": {
        "id": "4w-hbQkODuaq",
        "colab_type": "code",
        "colab": {}
      },
      "source": [
        "import pandas as pd\n",
        "import numpy as np\n"
      ],
      "execution_count": 7,
      "outputs": []
    },
    {
      "cell_type": "code",
      "metadata": {
        "id": "hk7SdDBiEGpL",
        "colab_type": "code",
        "colab": {
          "base_uri": "https://localhost:8080/",
          "height": 85
        },
        "outputId": "ad785e73-dfdb-439f-f617-3c747d2a2535"
      },
      "source": [
        "df=pd.DataFrame(y)\n",
        "print(df)"
      ],
      "execution_count": 8,
      "outputs": [
        {
          "output_type": "stream",
          "text": [
            "   0  1  2\n",
            "0  0  1  2\n",
            "1  0  1  2\n",
            "2  0  1  2\n"
          ],
          "name": "stdout"
        }
      ]
    },
    {
      "cell_type": "code",
      "metadata": {
        "id": "BawJhr0oE0jl",
        "colab_type": "code",
        "colab": {
          "base_uri": "https://localhost:8080/",
          "height": 68
        },
        "outputId": "63cc3449-9ab3-4060-9bfa-e8de6aa11c91"
      },
      "source": [
        "mat=np.array(y)\n",
        "print(mat)"
      ],
      "execution_count": 9,
      "outputs": [
        {
          "output_type": "stream",
          "text": [
            "[[0 1 2]\n",
            " [0 1 2]\n",
            " [0 1 2]]\n"
          ],
          "name": "stdout"
        }
      ]
    },
    {
      "cell_type": "code",
      "metadata": {
        "id": "h7BfGF3dFeRl",
        "colab_type": "code",
        "colab": {
          "base_uri": "https://localhost:8080/",
          "height": 68
        },
        "outputId": "b372f96d-8a36-4f61-e73b-a76931ebfde5"
      },
      "source": [
        "mat[0,1]=99\n",
        "print(mat)"
      ],
      "execution_count": 10,
      "outputs": [
        {
          "output_type": "stream",
          "text": [
            "[[ 0 99  2]\n",
            " [ 0  1  2]\n",
            " [ 0  1  2]]\n"
          ],
          "name": "stdout"
        }
      ]
    },
    {
      "cell_type": "code",
      "metadata": {
        "id": "xS4YDyl4FwOg",
        "colab_type": "code",
        "colab": {
          "base_uri": "https://localhost:8080/",
          "height": 34
        },
        "outputId": "0f7b12fa-ec25-4039-c5bb-2815cd92c5a5"
      },
      "source": [
        "print(mat[0,:])"
      ],
      "execution_count": 11,
      "outputs": [
        {
          "output_type": "stream",
          "text": [
            "[ 0 99  2]\n"
          ],
          "name": "stdout"
        }
      ]
    },
    {
      "cell_type": "code",
      "metadata": {
        "id": "7Dm-hkkyF7Qf",
        "colab_type": "code",
        "colab": {
          "base_uri": "https://localhost:8080/",
          "height": 34
        },
        "outputId": "ab66fed2-03ba-4d96-8165-a2928082713c"
      },
      "source": [
        "print(mat[:,0])"
      ],
      "execution_count": 12,
      "outputs": [
        {
          "output_type": "stream",
          "text": [
            "[0 0 0]\n"
          ],
          "name": "stdout"
        }
      ]
    },
    {
      "cell_type": "code",
      "metadata": {
        "id": "jPfVSNKIGPzz",
        "colab_type": "code",
        "colab": {}
      },
      "source": [
        "# recaptulando\n",
        "#tem o formato lista\n",
        "#tem o formato dataframe\n",
        "#tem o formato numpy array\n",
        "#indice começa no zero\n",
        "#tem varias situaçoes em que e possivel converter formato"
      ],
      "execution_count": 13,
      "outputs": []
    },
    {
      "cell_type": "code",
      "metadata": {
        "id": "LzMcYGttmYRQ",
        "colab_type": "code",
        "colab": {
          "base_uri": "https://localhost:8080/",
          "height": 34
        },
        "outputId": "fb4a46d3-0e43-4869-af32-b7c7adb71b2b"
      },
      "source": [
        "n=5\n",
        "#lista exemplo\n",
        "y=[]\n",
        "for i in range(n):\n",
        "  x=[]\n",
        "  for j in range(n):\n",
        "    x.append(j)\n",
        "  y.append(x)\n",
        "print(y)"
      ],
      "execution_count": 15,
      "outputs": [
        {
          "output_type": "stream",
          "text": [
            "[[0, 1, 2, 3, 4], [0, 1, 2, 3, 4], [0, 1, 2, 3, 4], [0, 1, 2, 3, 4], [0, 1, 2, 3, 4]]\n"
          ],
          "name": "stdout"
        }
      ]
    },
    {
      "cell_type": "code",
      "metadata": {
        "id": "p9Z9aw1YnuiP",
        "colab_type": "code",
        "colab": {}
      },
      "source": [
        "def Lista(nn):\n",
        "  y=[]\n",
        "  for i in range(nn):\n",
        "    x=[]\n",
        "    for j in range(nn):\n",
        "      x.append(j)\n",
        "    y.append(x)\n",
        "  return y\n",
        "  "
      ],
      "execution_count": 16,
      "outputs": []
    },
    {
      "cell_type": "code",
      "metadata": {
        "id": "XANGVPI7oriw",
        "colab_type": "code",
        "colab": {
          "base_uri": "https://localhost:8080/",
          "height": 34
        },
        "outputId": "8836d437-b1d3-4ed3-b765-db5c9381ba84"
      },
      "source": [
        "w=Lista(6)\n",
        "print(w)\n"
      ],
      "execution_count": 19,
      "outputs": [
        {
          "output_type": "stream",
          "text": [
            "[[0, 1, 2, 3, 4, 5], [0, 1, 2, 3, 4, 5], [0, 1, 2, 3, 4, 5], [0, 1, 2, 3, 4, 5], [0, 1, 2, 3, 4, 5], [0, 1, 2, 3, 4, 5]]\n"
          ],
          "name": "stdout"
        }
      ]
    }
  ]
}