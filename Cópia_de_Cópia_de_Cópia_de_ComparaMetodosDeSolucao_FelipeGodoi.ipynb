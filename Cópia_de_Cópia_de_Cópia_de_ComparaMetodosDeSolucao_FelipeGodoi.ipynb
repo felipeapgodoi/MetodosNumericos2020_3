{
  "nbformat": 4,
  "nbformat_minor": 0,
  "metadata": {
    "colab": {
      "name": "Cópia de Cópia de Cópia de ComparaMetodosDeSolucao_FelipeGodoi.ipynb",
      "provenance": [],
      "collapsed_sections": [],
      "authorship_tag": "ABX9TyOoZtFD5methfoSdpw9l8LA",
      "include_colab_link": true
    },
    "kernelspec": {
      "name": "python3",
      "display_name": "Python 3"
    }
  },
  "cells": [
    {
      "cell_type": "markdown",
      "metadata": {
        "id": "view-in-github",
        "colab_type": "text"
      },
      "source": [
        "<a href=\"https://colab.research.google.com/github/felipeapgodoi/MetodosNumericos2020_3/blob/master/C%C3%B3pia_de_C%C3%B3pia_de_C%C3%B3pia_de_ComparaMetodosDeSolucao_FelipeGodoi.ipynb\" target=\"_parent\"><img src=\"https://colab.research.google.com/assets/colab-badge.svg\" alt=\"Open In Colab\"/></a>"
      ]
    },
    {
      "cell_type": "code",
      "metadata": {
        "id": "eK9P8bynKAO0",
        "colab_type": "code",
        "colab": {}
      },
      "source": [
        "import numpy as np\n",
        "import numpy.linalg as npla\n",
        "import time\n",
        "import matplotlib.pyplot as plt"
      ],
      "execution_count": 26,
      "outputs": []
    },
    {
      "cell_type": "code",
      "metadata": {
        "id": "pQjysWjVJ9HV",
        "colab_type": "code",
        "colab": {
          "base_uri": "https://localhost:8080/",
          "height": 183
        },
        "outputId": "85ded944-e202-4bf8-a9dc-fbde04293292"
      },
      "source": [
        "!git clone https://github.com/felipeapgodoi/MetodosNumericos2020_3 #clonar do Github\n",
        "%cd MetodosNumericos2020_3"
      ],
      "execution_count": 27,
      "outputs": [
        {
          "output_type": "stream",
          "text": [
            "Cloning into 'MetodosNumericos2020_3'...\n",
            "remote: Enumerating objects: 103, done.\u001b[K\n",
            "remote: Counting objects: 100% (103/103), done.\u001b[K\n",
            "remote: Compressing objects: 100% (101/101), done.\u001b[K\n",
            "remote: Total 103 (delta 54), reused 0 (delta 0), pack-reused 0\u001b[K\n",
            "Receiving objects: 100% (103/103), 106.43 KiB | 2.22 MiB/s, done.\n",
            "Resolving deltas: 100% (54/54), done.\n",
            "/content/MetodosNumericos2020_3/MetodosNumericos2020_3/MetodosNumericos2020_3/MetodosNumericos2020_3/MetodosNumericos2020_3/MetodosNumericos2020_3\n"
          ],
          "name": "stdout"
        }
      ]
    },
    {
      "cell_type": "code",
      "metadata": {
        "id": "0T_GJdknKHWA",
        "colab_type": "code",
        "colab": {}
      },
      "source": [
        "from GaussPivot import gauss\n",
        "from GaussSeidel import gauss_seidel\n",
        "from Jacobi import jacobi\n",
        "from SOR import SOR\n"
      ],
      "execution_count": 28,
      "outputs": []
    },
    {
      "cell_type": "code",
      "metadata": {
        "id": "agJqchMqIku3",
        "colab_type": "code",
        "colab": {
          "base_uri": "https://localhost:8080/",
          "height": 497
        },
        "outputId": "aa14c67f-1fef-4405-e4b5-8b0d9c0115ac"
      },
      "source": [
        "# size of the matrix to be calculated\n",
        "SIZE = [10,50,100,1000]\n",
        "\n",
        "# create list\n",
        "cpu_time_numpy = []\n",
        "cpu_time_eliminacaodegauss = []\n",
        "cpu_time_gaussseidel = []\n",
        "cpu_time_jacobi = []\n",
        "cpu_time_SOR125 = []\n",
        "cpu_time_SOR150 = []\n",
        "cpu_time_SOR175 = []\n",
        "\n",
        "# loop over the size\n",
        "for size in SIZE :\n",
        "  # create the system\n",
        "  A = np.random.rand(size,size)\n",
        "  f = np.random.rand(size)\n",
        "  # nummpy\n",
        "  t0 = time.clock()\n",
        "  w=npla.solve(A,f)\n",
        "  cpu_time_numpy.append(time.clock()-t0)\n",
        "\n",
        "  # mycodeeliminacaodegauss\n",
        "  t0 = time.clock()\n",
        "  x= gauss(A,f)\n",
        "  cpu_time_eliminacaodegauss.append(time.clock()-t0)\n",
        "\n",
        "  # mycodegaussseidel\n",
        "  t0 = time.clock()\n",
        "  x0= np.random.rand(size)\n",
        "  y = gauss_seidel(A,f,x0)\n",
        "  cpu_time_gaussseidel.append(time.clock()-t0)\n",
        "\n",
        "  # mycodejacobi\n",
        "  t0 = time.clock()\n",
        "  z = jacobi(A,f,x)\n",
        "  cpu_time_jacobi.append(time.clock()-t0)\n",
        "\n",
        "  # mycodesor1\n",
        "  t0 = time.clock()\n",
        "  x0= np.random.rand(size)\n",
        "  omega=1.25\n",
        "  x = SOR(A,f,x0,omega)\n",
        "  cpu_time_SOR125.append(time.clock()-t0)\n",
        "\n",
        "  # mycodesor2\n",
        "  t0 = time.clock()\n",
        "  x0= np.random.rand(size)\n",
        "  omega=1.5\n",
        "  x = SOR(A,f,x0,omega)\n",
        "  cpu_time_SOR150.append(time.clock()-t0)\n",
        "\n",
        "  # mycodesor3\n",
        "  t0 = time.clock()\n",
        "  x0= np.random.rand(size)\n",
        "  omega=1.75\n",
        "  x = SOR(A,f,x0,omega)\n",
        "  cpu_time_SOR175.append(time.clock()-t0)\n",
        "\n",
        "# plot the results\n",
        "plt.semilogy(SIZE,cpu_time_numpy,'o-',linewidth=4, color='blue',label='Numpy')\n",
        "plt.semilogy(SIZE,cpu_time_eliminacaodegauss,'o-',linewidth=4, color='green',label='Gauss')\n",
        "plt.semilogy(SIZE,cpu_time_gaussseidel,'o-',linewidth=4, color='red',label='Gauss Seidel')\n",
        "plt.semilogy(SIZE,cpu_time_jacobi,'o-',linewidth=4, color='cyan',label='Jacobi')\n",
        "plt.semilogy(SIZE,cpu_time_SOR125,'o-',linewidth=4, color='magenta',label='SOR1.25')\n",
        "plt.semilogy(SIZE,cpu_time_SOR150,'o-',linewidth=4, color='yellow',label='SOR1.50')\n",
        "plt.semilogy(SIZE,cpu_time_SOR175,'o-',linewidth=4, color='black',label='SOR1.75')\n",
        "\n",
        "plt.xlabel('Size of the system'  )\n",
        "plt.ylabel('Computation Time')\n",
        "plt.xlim([0,1750])\n",
        "plt.legend(loc=4)\n",
        "plt.show()"
      ],
      "execution_count": 29,
      "outputs": [
        {
          "output_type": "stream",
          "text": [
            "/content/MetodosNumericos2020_3/GaussSeidel.py:40: RuntimeWarning: overflow encountered in double_scalars\n",
            "  x_new[i] = (f[i]-sum1-sum2)/A[i,i]\n",
            "/content/MetodosNumericos2020_3/GaussSeidel.py:35: RuntimeWarning: invalid value encountered in double_scalars\n",
            "  sum1 += A[i,j]*x_new[j]\n",
            "/content/MetodosNumericos2020_3/SOR.py:41: RuntimeWarning: overflow encountered in double_scalars\n",
            "  x_new[i] = (f[i]-sum1-sum2)/A[i,i]\n",
            "/content/MetodosNumericos2020_3/SOR.py:43: RuntimeWarning: invalid value encountered in double_scalars\n",
            "  x_new[i] = omega*x_new[i]+(1-omega)*x[i]\n",
            "/content/MetodosNumericos2020_3/SOR.py:43: RuntimeWarning: overflow encountered in double_scalars\n",
            "  x_new[i] = omega*x_new[i]+(1-omega)*x[i]\n",
            "/content/MetodosNumericos2020_3/SOR.py:36: RuntimeWarning: invalid value encountered in double_scalars\n",
            "  sum1 += A[i,j]*x_new[j]\n"
          ],
          "name": "stderr"
        },
        {
          "output_type": "display_data",
          "data": {
            "image/png": "[encoded data removed]",
            "text/plain": [
              "<Figure size 432x288 with 1 Axes>"
            ]
          },
          "metadata": {
            "tags": [],
            "needs_background": "light"
          }
        }
      ]
    },
    {
      "cell_type": "code",
      "metadata": {
        "id": "oupsf6a75xbS",
        "colab_type": "code",
        "colab": {
          "base_uri": "https://localhost:8080/",
          "height": 145
        },
        "outputId": "e3f3066f-ed4d-4fc2-f73a-a20f3e3032a7"
      },
      "source": [
        "print (cpu_time_numpy)\n",
        "print(cpu_time_eliminacaodegauss)\n",
        "print(cpu_time_gaussseidel)\n",
        "print(cpu_time_jacobi)\n",
        "print(cpu_time_SOR125)\n",
        "print(cpu_time_SOR150)\n",
        "print(cpu_time_SOR175)"
      ],
      "execution_count": 30,
      "outputs": [
        {
          "output_type": "stream",
          "text": [
            "[0.0001829999999998222, 0.0003819999999983281, 0.0006599999999998829, 0.08655499999999705]\n",
            "[0.0005930000000020641, 0.16946899999999943, 0.4900909999999996, 301.32466]\n",
            "[0.0066670000000002005, 0.10793099999999711, 0.4133950000000013, 1.4561060000000339]\n",
            "[5.999999999772854e-05, 9.899999999873899e-05, 0.000226999999998867, 0.0024000000000228283]\n",
            "[0.007842000000000127, 0.07192099999999968, 0.41180200000000156, 1.397627]\n",
            "[0.007828999999997421, 0.06173000000000073, 0.4043949999999974, 1.3855100000000107]\n",
            "[0.008288000000000295, 0.061444999999999084, 0.3926960000000008, 0.6997779999999807]\n"
          ],
          "name": "stdout"
        }
      ]
    }
  ]
}