{
  "nbformat": 4,
  "nbformat_minor": 0,
  "metadata": {
    "colab": {
      "name": "Cópia de Cópia de Cópia de Cópia de Cópia de ComparaMetodosDeSolucao_FelipeGodoi.ipynb",
      "provenance": [],
      "collapsed_sections": [],
      "authorship_tag": "ABX9TyOUqfKl4GhSJQXE2Ac6JG9G",
      "include_colab_link": true
    },
    "kernelspec": {
      "name": "python3",
      "display_name": "Python 3"
    }
  },
  "cells": [
    {
      "cell_type": "markdown",
      "metadata": {
        "id": "view-in-github",
        "colab_type": "text"
      },
      "source": [
        "<a href=\"https://colab.research.google.com/github/felipeapgodoi/MetodosNumericos2020_3/blob/master/C%C3%B3pia_de_C%C3%B3pia_de_C%C3%B3pia_de_C%C3%B3pia_de_C%C3%B3pia_de_ComparaMetodosDeSolucao_FelipeGodoi.ipynb\" target=\"_parent\"><img src=\"https://colab.research.google.com/assets/colab-badge.svg\" alt=\"Open In Colab\"/></a>"
      ]
    },
    {
      "cell_type": "code",
      "metadata": {
        "id": "eK9P8bynKAO0",
        "colab_type": "code",
        "colab": {}
      },
      "source": [
        "import numpy as np\n",
        "import numpy.linalg as npla\n",
        "import time\n",
        "import matplotlib.pyplot as plt"
      ],
      "execution_count": 17,
      "outputs": []
    },
    {
      "cell_type": "code",
      "metadata": {
        "id": "pQjysWjVJ9HV",
        "colab_type": "code",
        "colab": {
          "base_uri": "https://localhost:8080/",
          "height": 163
        },
        "outputId": "369013c3-5e9d-4601-cca1-a5953cd4a706"
      },
      "source": [
        "!git clone https://github.com/felipeapgodoi/MetodosNumericos2020_3 #clonar do Github\n",
        "%cd MetodosNumericos2020_3"
      ],
      "execution_count": 18,
      "outputs": [
        {
          "output_type": "stream",
          "text": [
            "Cloning into 'MetodosNumericos2020_3'...\n",
            "remote: Enumerating objects: 127, done.\u001b[K\n",
            "remote: Counting objects: 100% (127/127), done.\u001b[K\n",
            "remote: Compressing objects: 100% (125/125), done.\u001b[K\n",
            "remote: Total 127 (delta 67), reused 0 (delta 0), pack-reused 0\u001b[K\n",
            "Receiving objects: 100% (127/127), 171.26 KiB | 3.42 MiB/s, done.\n",
            "Resolving deltas: 100% (67/67), done.\n",
            "/content/MetodosNumericos2020_3/MetodosNumericos2020_3/MetodosNumericos2020_3/MetodosNumericos2020_3\n"
          ],
          "name": "stdout"
        }
      ]
    },
    {
      "cell_type": "code",
      "metadata": {
        "id": "0T_GJdknKHWA",
        "colab_type": "code",
        "colab": {}
      },
      "source": [
        "from GaussPivot import gauss\n",
        "from GaussSeidel import gauss_seidel\n",
        "from Jacobi import jacobi\n",
        "from SOR import SOR\n"
      ],
      "execution_count": 19,
      "outputs": []
    },
    {
      "cell_type": "code",
      "metadata": {
        "id": "agJqchMqIku3",
        "colab_type": "code",
        "colab": {
          "base_uri": "https://localhost:8080/",
          "height": 643
        },
        "outputId": "d39cf35e-c5c8-42fe-9e77-8f4fc33adff7"
      },
      "source": [
        "# size of the matrix to be calculated\n",
        "SIZE = [10,50,100,1000]\n",
        "\n",
        "# create list\n",
        "cpu_time_numpy = []\n",
        "cpu_time_eliminacaodegauss = []\n",
        "cpu_time_gaussseidel = []\n",
        "cpu_time_jacobi = []\n",
        "cpu_time_SOR125 = []\n",
        "cpu_time_SOR150 = []\n",
        "cpu_time_SOR175 = []\n",
        "\n",
        "# loop over the size\n",
        "for size in SIZE :\n",
        "  # create the system\n",
        "  A = np.random.rand(size,size)\n",
        "  f = np.random.rand(size)\n",
        "  # nummpy\n",
        "  t0 = time.clock()\n",
        "  w=npla.solve(A,f)\n",
        "  cpu_time_numpy.append(time.clock()-t0)\n",
        "\n",
        "  # mycodeeliminacaodegauss\n",
        "  t0 = time.clock()\n",
        "  x= gauss(A,f)\n",
        "  cpu_time_eliminacaodegauss.append(time.clock()-t0)\n",
        "\n",
        "  # mycodegaussseidel\n",
        "  t0 = time.clock()\n",
        "  x0= np.random.rand(size)\n",
        "  y = gauss_seidel(A,f,x0)\n",
        "  cpu_time_gaussseidel.append(time.clock()-t0)\n",
        "\n",
        "  # mycodejacobi\n",
        "  t0 = time.clock()\n",
        "  x= np.random.rand(size)\n",
        "  z = jacobi(A,f,x)\n",
        "  cpu_time_jacobi.append(time.clock()-t0)\n",
        "\n",
        "  # mycodesor1\n",
        "  t0 = time.clock()\n",
        "  x0= np.random.rand(size)\n",
        "  omega=1.25\n",
        "  x = SOR(A,f,x0,omega)\n",
        "  cpu_time_SOR125.append(time.clock()-t0)\n",
        "\n",
        "  # mycodesor2\n",
        "  t0 = time.clock()\n",
        "  x0= np.random.rand(size)\n",
        "  omega=1.5\n",
        "  x = SOR(A,f,x0,omega)\n",
        "  cpu_time_SOR150.append(time.clock()-t0)\n",
        "\n",
        "  # mycodesor3\n",
        "  t0 = time.clock()\n",
        "  x0= np.random.rand(size)\n",
        "  omega=1.75\n",
        "  x = SOR(A,f,x0,omega)\n",
        "  cpu_time_SOR175.append(time.clock()-t0)\n",
        "\n",
        "# plot the results\n",
        "plt.semilogy(SIZE,cpu_time_numpy,'o-',linewidth=4, color='blue',label='Numpy')\n",
        "plt.semilogy(SIZE,cpu_time_eliminacaodegauss,'o-',linewidth=4, color='green',label='Gauss')\n",
        "plt.semilogy(SIZE,cpu_time_gaussseidel,'o-',linewidth=4, color='red',label='Gauss Seidel')\n",
        "plt.semilogy(SIZE,cpu_time_jacobi,'o-',linewidth=4, color='cyan',label='Jacobi')\n",
        "plt.semilogy(SIZE,cpu_time_SOR125,'o-',linewidth=4, color='magenta',label='SOR1.25')\n",
        "plt.semilogy(SIZE,cpu_time_SOR150,'o-',linewidth=4, color='yellow',label='SOR1.50')\n",
        "plt.semilogy(SIZE,cpu_time_SOR175,'o-',linewidth=4, color='black',label='SOR1.75')\n",
        "\n",
        "plt.xlabel('Size of the system'  )\n",
        "plt.ylabel('Computation Time')\n",
        "plt.xlim([0,1750])\n",
        "plt.legend(loc=4)\n",
        "plt.show()"
      ],
      "execution_count": 20,
      "outputs": [
        {
          "output_type": "stream",
          "text": [
            "/content/MetodosNumericos2020_3/GaussSeidel.py:40: RuntimeWarning: overflow encountered in double_scalars\n",
            "  x_new[i] = (f[i]-sum1-sum2)/A[i,i]\n",
            "/content/MetodosNumericos2020_3/GaussSeidel.py:35: RuntimeWarning: invalid value encountered in double_scalars\n",
            "  sum1 += A[i,j]*x_new[j]\n",
            "/content/MetodosNumericos2020_3/SOR.py:41: RuntimeWarning: overflow encountered in double_scalars\n",
            "  x_new[i] = (f[i]-sum1-sum2)/A[i,i]\n",
            "/content/MetodosNumericos2020_3/SOR.py:43: RuntimeWarning: invalid value encountered in double_scalars\n",
            "  x_new[i] = omega*x_new[i]+(1-omega)*x[i]\n",
            "/content/MetodosNumericos2020_3/SOR.py:43: RuntimeWarning: overflow encountered in double_scalars\n",
            "  x_new[i] = omega*x_new[i]+(1-omega)*x[i]\n",
            "/content/MetodosNumericos2020_3/GaussSeidel.py:35: RuntimeWarning: overflow encountered in double_scalars\n",
            "  sum1 += A[i,j]*x_new[j]\n",
            "/content/MetodosNumericos2020_3/Jacobi.py:33: RuntimeWarning: overflow encountered in double_scalars\n",
            "  xnew[i] = (f[i] - sum)/A[i,i]\n",
            "/content/MetodosNumericos2020_3/Jacobi.py:32: RuntimeWarning: overflow encountered in double_scalars\n",
            "  sum += A[i,j]*x[j]\n",
            "/content/MetodosNumericos2020_3/SOR.py:36: RuntimeWarning: invalid value encountered in double_scalars\n",
            "  sum1 += A[i,j]*x_new[j]\n",
            "/content/MetodosNumericos2020_3/SOR.py:36: RuntimeWarning: overflow encountered in double_scalars\n",
            "  sum1 += A[i,j]*x_new[j]\n"
          ],
          "name": "stderr"
        },
        {
          "output_type": "display_data",
          "data": {
            "image/png": "[encoded data removed]",
            "text/plain": [
              "<Figure size 432x288 with 1 Axes>"
            ]
          },
          "metadata": {
            "tags": [],
            "needs_background": "light"
          }
        }
      ]
    },
    {
      "cell_type": "code",
      "metadata": {
        "id": "oupsf6a75xbS",
        "colab_type": "code",
        "colab": {
          "base_uri": "https://localhost:8080/",
          "height": 145
        },
        "outputId": "f3fd294f-880b-44ad-ab32-cc92b52e121c"
      },
      "source": [
        "print (cpu_time_numpy)\n",
        "print(cpu_time_eliminacaodegauss)\n",
        "print(cpu_time_gaussseidel)\n",
        "print(cpu_time_jacobi)\n",
        "print(cpu_time_SOR125)\n",
        "print(cpu_time_SOR150)\n",
        "print(cpu_time_SOR175)"
      ],
      "execution_count": 21,
      "outputs": [
        {
          "output_type": "stream",
          "text": [
            "[0.00012099999997872146, 0.0003839999999968313, 0.0006209999999953197, 0.0836529999999982]\n",
            "[0.0005600000000072214, 0.17551299999999515, 0.4833900000000142, 298.949423]\n",
            "[0.006514000000009901, 0.10663299999998799, 0.2890379999999766, 1.456055000000049]\n",
            "[0.006537000000008675, 0.14013599999998405, 2.1125609999999995, 69.55327700000004]\n",
            "[0.007568999999989501, 0.07926299999999742, 0.2868660000000034, 1.4112850000000208]\n",
            "[0.009759999999999991, 0.07434000000000651, 0.2767599999999959, 1.391010999999935]\n",
            "[0.00733500000001186, 0.0790800000000047, 0.2859070000000088, 0.697563999999943]\n"
          ],
          "name": "stdout"
        }
      ]
    },
    {
      "cell_type": "code",
      "metadata": {
        "id": "piwlfECbez8X",
        "colab_type": "code",
        "colab": {
          "base_uri": "https://localhost:8080/",
          "height": 279
        },
        "outputId": "56def995-2f14-40bc-e8dd-32b33d2e0217"
      },
      "source": [
        "plt.semilogy(SIZE,cpu_time_gaussseidel,'o-',linewidth=4, color='red',label='Gauss Seidel')\n",
        "plt.semilogy(SIZE,cpu_time_SOR125,'o-',linewidth=4, color='magenta',label='SOR1.25')\n",
        "plt.semilogy(SIZE,cpu_time_SOR150,'o-',linewidth=4, color='yellow',label='SOR1.50')\n",
        "plt.semilogy(SIZE,cpu_time_SOR175,'o-',linewidth=4, color='black',label='SOR1.75')\n",
        "\n",
        "plt.xlabel('Size of the system'  )\n",
        "plt.ylabel('Computation Time')\n",
        "plt.xlim([0,1750])\n",
        "plt.legend(loc=4)\n",
        "plt.show()"
      ],
      "execution_count": 22,
      "outputs": [
        {
          "output_type": "display_data",
          "data": {
            "image/png": "[encoded data removed]",
            "text/plain": [
              "<Figure size 432x288 with 1 Axes>"
            ]
          },
          "metadata": {
            "tags": [],
            "needs_background": "light"
          }
        }
      ]
    }
  ]
}