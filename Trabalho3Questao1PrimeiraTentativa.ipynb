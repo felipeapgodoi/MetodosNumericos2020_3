{
  "nbformat": 4,
  "nbformat_minor": 0,
  "metadata": {
    "colab": {
      "name": "Trabalho3Questao1PrimeiraTentativa.ipynb",
      "provenance": [],
      "collapsed_sections": [],
      "authorship_tag": "ABX9TyPxjPM4owoIOwRqrul4vXYd",
      "include_colab_link": true
    },
    "kernelspec": {
      "name": "python3",
      "display_name": "Python 3"
    }
  },
  "cells": [
    {
      "cell_type": "markdown",
      "metadata": {
        "id": "view-in-github",
        "colab_type": "text"
      },
      "source": [
        "<a href=\"https://colab.research.google.com/github/felipeapgodoi/MetodosNumericos2020_3/blob/master/Trabalho3Questao1PrimeiraTentativa.ipynb\" target=\"_parent\"><img src=\"https://colab.research.google.com/assets/colab-badge.svg\" alt=\"Open In Colab\"/></a>"
      ]
    },
    {
      "cell_type": "code",
      "metadata": {
        "id": "naYfaRSecUEq",
        "colab_type": "code",
        "colab": {}
      },
      "source": [
        "def Newton(f, dfdx, x, eps,n):\n",
        "    k=0\n",
        "    while abs(f(x)) > eps and k < n:\n",
        "        k=k+1\n",
        "        x = x - float(f(x))/dfdx(x)\n",
        "        k+=1\n",
        "    return x,k"
      ],
      "execution_count": 4,
      "outputs": []
    },
    {
      "cell_type": "code",
      "metadata": {
        "id": "bOi8ive4T9J2",
        "colab_type": "code",
        "colab": {
          "base_uri": "https://localhost:8080/",
          "height": 35
        },
        "outputId": "6c2be5f2-a20c-4a04-82a1-1b346a6b077d"
      },
      "source": [
        "def f(x):\n",
        "    return 18*x**3-41.03*x**2+9.373526271*x-1.031709994\n",
        "\n",
        "def dfdx(x):\n",
        "    return 3*18*x**2-41.03*2*x+9.373526271\n",
        "\n",
        "print(Newton(f, dfdx, 10, 0.000001,1000))"
      ],
      "execution_count": 5,
      "outputs": [
        {
          "output_type": "stream",
          "text": [
            "(2.0376887198885543, 18)\n"
          ],
          "name": "stdout"
        }
      ]
    }
  ]
}