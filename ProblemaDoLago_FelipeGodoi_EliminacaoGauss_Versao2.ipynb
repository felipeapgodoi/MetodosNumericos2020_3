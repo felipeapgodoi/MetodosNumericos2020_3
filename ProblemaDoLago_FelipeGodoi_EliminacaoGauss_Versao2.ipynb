{
  "nbformat": 4,
  "nbformat_minor": 0,
  "metadata": {
    "colab": {
      "name": "ProblemaDoLago_FelipeGodoi_EliminacaoGauss_Versao2.ipynb",
      "provenance": [],
      "collapsed_sections": [],
      "authorship_tag": "ABX9TyNjEV09CTumRckh28sQROTL",
      "include_colab_link": true
    },
    "kernelspec": {
      "name": "python3",
      "display_name": "Python 3"
    }
  },
  "cells": [
    {
      "cell_type": "markdown",
      "metadata": {
        "id": "view-in-github",
        "colab_type": "text"
      },
      "source": [
        "<a href=\"https://colab.research.google.com/github/felipeapgodoi/MetodosNumericos2020_3/blob/master/ProblemaDoLago_FelipeGodoi_EliminacaoGauss_Versao2.ipynb\" target=\"_parent\"><img src=\"https://colab.research.google.com/assets/colab-badge.svg\" alt=\"Open In Colab\"/></a>"
      ]
    },
    {
      "cell_type": "code",
      "metadata": {
        "id": "remAkX_qlBLr",
        "colab_type": "code",
        "colab": {}
      },
      "source": [
        "# Universidade Federal de Uberlândia\n",
        "# Programa de Pós Graduação Em Engenharia Química\n",
        "# Métodos Numéricos Aplicados à Engenharia Química\n",
        "# Aluno: Felipe Augusto Paes de Godoi\n",
        "# Atividade 01: Problema Do Lago\n",
        "# Balanço de massa de PCB nos lagos:\n",
        "# Lago Superior: 72 * Cs = 180\n",
        "# Lago Michigan: 38 * Cm = 810\n",
        "# Lago Huron: 72 * Cs + 38 * Cm - 160 * Ch = -630\n",
        "# Lago Erie: 160 * Ch - 185 * Ce = -2750\n",
        "# Lago Ontario: 185 * Ce - 215 * Co = -3820\n",
        "\n",
        "import numpy as np\n",
        "import time\n",
        "import matplotlib.pyplot as plt\n",
        "import numpy.linalg as npla\n",
        "\n",
        "########################################################\n",
        "# Function to decompose the matrix\n",
        "# in an upper triangular form\n",
        "########################################################\n",
        "\n",
        "def LU(A,Entradas):\n",
        "  # get the size of the system\n",
        "  n = len(Entradas)\n",
        "  \n",
        "  # check the size\n",
        "  \n",
        "  if (A.shape[0] != n) or (A.shape[1] != n):\n",
        "    print('\\t Inconsistent size in LU decomposition')\n",
        "    info = 0\n",
        "    return M,info\n",
        "\n",
        "  # create the augmented matrix\n",
        "  M = np.zeros((n,n+1))\n",
        "  M[:,:-1] = A\n",
        "  M[:,-1] = Entradas\n",
        "\n",
        "  # loop through all the colum\n",
        "  # to get rid of the lower part\n",
        "  for iC in range(n-1):\n",
        "    # for each column loop over all the lines\n",
        "    # that are below the diagonal\n",
        "    # to set to 0 their elements\n",
        "    for iL in range(iC+1,n):\n",
        "      # check if the diagonal element\n",
        "      # is null\n",
        "      if(M[iC,iC] == 0):\n",
        "        print('\\t Zero on the diagonal, LU failed')\n",
        "        info = 0\n",
        "        return M,info\n",
        "      # eliminate the element\n",
        "      M[iL,:] = M[iL,:] - M[iL,iC]/M[iC,iC] * M[iC,:]\n",
        "\n",
        "   # if we succed we return info = 1 and the upper augmetned matrix\n",
        "\n",
        "  info = 1\n",
        "  return M,info"
      ],
      "execution_count": 6,
      "outputs": []
    },
    {
      "cell_type": "code",
      "metadata": {
        "id": "dBfKB-QKm-91",
        "colab_type": "code",
        "colab": {}
      },
      "source": [
        "########################################################\n",
        "# Function to backsubstitute the results\n",
        "# and get the final solution\n",
        "########################################################\n",
        "def BS(M):\n",
        "  # get the size of the matrix\n",
        "  n = M.shape[0]\n",
        "  # loop over all the lines\n",
        "  # starting by the end\n",
        "  for iL in range(n-1,-1,-1):\n",
        "    # check if we have diagonal elements on the diagonal\n",
        "    if(M[iL,iL] == 0):\n",
        "      print('\\t Zero on the diagonal, LU failed')\n",
        "      info = 0\n",
        "      return M,info\n",
        "    # divide the line by the diagonal element of M\n",
        "    M[iL,:] /= M[iL,iL]\n",
        "    \n",
        "    # loop over all the lines that are above this onef\n",
        "    for iLL in range(iL-1,-1,-1):\n",
        "      M[iLL,:] -= M[iLL,iL]*M[iL,:]\n",
        "\n",
        "  info = 1\n",
        "  x=M[:,n]\n",
        "  return x,info\n",
        "\n",
        "########################################################\n",
        "########################################################"
      ],
      "execution_count": 7,
      "outputs": []
    },
    {
      "cell_type": "code",
      "metadata": {
        "id": "nQAUrcZ7nwbu",
        "colab_type": "code",
        "colab": {
          "base_uri": "https://localhost:8080/",
          "height": 54
        },
        "outputId": "c4573a1a-9eb9-4e6b-f1ef-4edabf27a2ac"
      },
      "source": [
        "# create the matrix A\n",
        "A = np. array ([[72.0 ,0.0 ,0.0 ,0.0 ,0.0] ,[0.0 ,38.0 ,0.0 ,0.0 ,0.0] , [72.0 ,38.0 ,-160.0, 0.0 ,0.0] , [0.0 ,0.0 ,160.0 ,-185.0 ,0.0] , [0.0 ,0.0 ,0.0 ,185.0 ,-215.0]])\n",
        "\n",
        "# create the right-hand side\n",
        "Entradas = np. array ([180.0 ,810.0 ,-630.0 ,-2750.0 ,-3820.0])\n",
        "\n",
        "M,info = LU(A,Entradas)\n",
        "x,info = BS(M)\n",
        "\n",
        "# print the solution\n",
        "print(x)\n",
        "\n",
        "# check the solution\n",
        "check_sol = np.dot(A,x)\n",
        "print(check_sol)\n"
      ],
      "execution_count": 8,
      "outputs": [
        {
          "output_type": "stream",
          "text": [
            "[ 2.5        21.31578947 10.125      23.62162162 38.09302326]\n",
            "[  180.   810.  -630. -2750. -3820.]\n"
          ],
          "name": "stdout"
        }
      ]
    },
    {
      "cell_type": "code",
      "metadata": {
        "id": "mL0XIC7m79AD",
        "colab_type": "code",
        "colab": {}
      },
      "source": [
        "# Balanço de massa de PCB nos lagos considerando uma corrente de bypass saindo do Lago Michigan para o Lago Ontario\n",
        "# Lago Superior: 72 * Cs = 180\n",
        "# Lago Michigan: 58 * Cm = 810\n",
        "# Lago Huron: 72 * Cs + 38 * Cm - 160 * Ch = -630\n",
        "# Lago Erie: 160 * Ch - 185 * Ce = -2750\n",
        "# Lago Ontario: 20 * Cm + 185 * Ce - 215 * Co = -3820\n"
      ],
      "execution_count": 9,
      "outputs": []
    },
    {
      "cell_type": "code",
      "metadata": {
        "colab_type": "code",
        "id": "xUVkhPpJ8rHY",
        "colab": {
          "base_uri": "https://localhost:8080/",
          "height": 54
        },
        "outputId": "c85c06e9-109d-422a-8c45-6ccb19a6a331"
      },
      "source": [
        "# create the matrix A\n",
        "A = np. array ([[72.0 ,0.0 ,0.0 ,0.0 ,0.0] ,[0.0 ,58.0 ,0.0 ,0.0 ,0.0] , [72.0 ,38.0 ,-160.0, 0.0 ,0.0] , [0.0 ,0.0 ,160.0 ,-185.0 ,0.0] , [0.0 ,20.0 ,0.0 ,185.0 ,-215.0]])\n",
        "\n",
        "# create the right-hand side\n",
        "Entradas = np. array ([180.0 ,810.0 ,-630.0 ,-2750.0 ,-3820.0])\n",
        "\n",
        "M,info = LU(A,Entradas)\n",
        "x,info = BS(M)\n",
        "\n",
        "# print the solution\n",
        "print(x)\n",
        "\n",
        "# check the solution\n",
        "check_sol = np.dot(A,x)\n",
        "print(check_sol)\n"
      ],
      "execution_count": 10,
      "outputs": [
        {
          "output_type": "stream",
          "text": [
            "[ 2.5        13.96551724  8.37931034 22.11183597 38.09302326]\n",
            "[  180.   810.  -630. -2750. -3820.]\n"
          ],
          "name": "stdout"
        }
      ]
    }
  ]
}