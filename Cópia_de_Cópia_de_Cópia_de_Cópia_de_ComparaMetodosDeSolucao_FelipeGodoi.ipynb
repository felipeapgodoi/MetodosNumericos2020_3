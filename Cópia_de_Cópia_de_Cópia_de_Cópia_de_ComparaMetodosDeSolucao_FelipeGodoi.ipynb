{
  "nbformat": 4,
  "nbformat_minor": 0,
  "metadata": {
    "colab": {
      "name": "Cópia de Cópia de Cópia de Cópia de ComparaMetodosDeSolucao_FelipeGodoi.ipynb",
      "provenance": [],
      "collapsed_sections": [],
      "authorship_tag": "ABX9TyMUxiFk5eMolVBZHN6NAGch",
      "include_colab_link": true
    },
    "kernelspec": {
      "name": "python3",
      "display_name": "Python 3"
    }
  },
  "cells": [
    {
      "cell_type": "markdown",
      "metadata": {
        "id": "view-in-github",
        "colab_type": "text"
      },
      "source": [
        "<a href=\"https://colab.research.google.com/github/felipeapgodoi/MetodosNumericos2020_3/blob/master/C%C3%B3pia_de_C%C3%B3pia_de_C%C3%B3pia_de_C%C3%B3pia_de_ComparaMetodosDeSolucao_FelipeGodoi.ipynb\" target=\"_parent\"><img src=\"https://colab.research.google.com/assets/colab-badge.svg\" alt=\"Open In Colab\"/></a>"
      ]
    },
    {
      "cell_type": "code",
      "metadata": {
        "id": "eK9P8bynKAO0",
        "colab_type": "code",
        "colab": {}
      },
      "source": [
        "import numpy as np\n",
        "import numpy.linalg as npla\n",
        "import time\n",
        "import matplotlib.pyplot as plt"
      ],
      "execution_count": 31,
      "outputs": []
    },
    {
      "cell_type": "code",
      "metadata": {
        "id": "pQjysWjVJ9HV",
        "colab_type": "code",
        "colab": {
          "base_uri": "https://localhost:8080/",
          "height": 183
        },
        "outputId": "e16529c5-0e31-46d3-9d45-dc4711c37417"
      },
      "source": [
        "!git clone https://github.com/felipeapgodoi/MetodosNumericos2020_3 #clonar do Github\n",
        "%cd MetodosNumericos2020_3"
      ],
      "execution_count": 32,
      "outputs": [
        {
          "output_type": "stream",
          "text": [
            "Cloning into 'MetodosNumericos2020_3'...\n",
            "remote: Enumerating objects: 106, done.\u001b[K\n",
            "remote: Counting objects: 100% (106/106), done.\u001b[K\n",
            "remote: Compressing objects: 100% (104/104), done.\u001b[K\n",
            "remote: Total 106 (delta 55), reused 0 (delta 0), pack-reused 0\u001b[K\n",
            "Receiving objects: 100% (106/106), 129.60 KiB | 834.00 KiB/s, done.\n",
            "Resolving deltas: 100% (55/55), done.\n",
            "/content/MetodosNumericos2020_3/MetodosNumericos2020_3/MetodosNumericos2020_3/MetodosNumericos2020_3/MetodosNumericos2020_3/MetodosNumericos2020_3\n"
          ],
          "name": "stdout"
        }
      ]
    },
    {
      "cell_type": "code",
      "metadata": {
        "id": "0T_GJdknKHWA",
        "colab_type": "code",
        "colab": {}
      },
      "source": [
        "from GaussPivot import gauss\n",
        "from GaussSeidel import gauss_seidel\n",
        "from Jacobi import jacobi\n",
        "from SOR import SOR\n"
      ],
      "execution_count": 33,
      "outputs": []
    },
    {
      "cell_type": "code",
      "metadata": {
        "id": "agJqchMqIku3",
        "colab_type": "code",
        "colab": {
          "base_uri": "https://localhost:8080/",
          "height": 570
        },
        "outputId": "ab88d30e-aeaf-4ace-a6ae-d8927813e261"
      },
      "source": [
        "# size of the matrix to be calculated\n",
        "SIZE = [10,50,100,1000]\n",
        "\n",
        "# create list\n",
        "cpu_time_numpy = []\n",
        "cpu_time_eliminacaodegauss = []\n",
        "cpu_time_gaussseidel = []\n",
        "cpu_time_jacobi = []\n",
        "cpu_time_SOR125 = []\n",
        "cpu_time_SOR150 = []\n",
        "cpu_time_SOR175 = []\n",
        "\n",
        "# loop over the size\n",
        "for size in SIZE :\n",
        "  # create the system\n",
        "  A = np.random.rand(size,size)\n",
        "  f = np.random.rand(size)\n",
        "  # nummpy\n",
        "  t0 = time.clock()\n",
        "  w=npla.solve(A,f)\n",
        "  cpu_time_numpy.append(time.clock()-t0)\n",
        "\n",
        "  # mycodeeliminacaodegauss\n",
        "  t0 = time.clock()\n",
        "  x= gauss(A,f)\n",
        "  cpu_time_eliminacaodegauss.append(time.clock()-t0)\n",
        "\n",
        "  # mycodegaussseidel\n",
        "  t0 = time.clock()\n",
        "  x0= np.random.rand(size)\n",
        "  y = gauss_seidel(A,f,x0)\n",
        "  cpu_time_gaussseidel.append(time.clock()-t0)\n",
        "\n",
        "  # mycodejacobi\n",
        "  t0 = time.clock()\n",
        "  z = jacobi(A,f,x)\n",
        "  cpu_time_jacobi.append(time.clock()-t0)\n",
        "\n",
        "  # mycodesor1\n",
        "  t0 = time.clock()\n",
        "  x0= np.random.rand(size)\n",
        "  omega=1.25\n",
        "  x = SOR(A,f,x0,omega)\n",
        "  cpu_time_SOR125.append(time.clock()-t0)\n",
        "\n",
        "  # mycodesor2\n",
        "  t0 = time.clock()\n",
        "  x0= np.random.rand(size)\n",
        "  omega=1.5\n",
        "  x = SOR(A,f,x0,omega)\n",
        "  cpu_time_SOR150.append(time.clock()-t0)\n",
        "\n",
        "  # mycodesor3\n",
        "  t0 = time.clock()\n",
        "  x0= np.random.rand(size)\n",
        "  omega=1.75\n",
        "  x = SOR(A,f,x0,omega)\n",
        "  cpu_time_SOR175.append(time.clock()-t0)\n",
        "\n",
        "# plot the results\n",
        "plt.semilogy(SIZE,cpu_time_numpy,'o-',linewidth=4, color='blue',label='Numpy')\n",
        "plt.semilogy(SIZE,cpu_time_eliminacaodegauss,'o-',linewidth=4, color='green',label='Gauss')\n",
        "plt.semilogy(SIZE,cpu_time_gaussseidel,'o-',linewidth=4, color='red',label='Gauss Seidel')\n",
        "plt.semilogy(SIZE,cpu_time_jacobi,'o-',linewidth=4, color='cyan',label='Jacobi')\n",
        "plt.semilogy(SIZE,cpu_time_SOR125,'o-',linewidth=4, color='magenta',label='SOR1.25')\n",
        "plt.semilogy(SIZE,cpu_time_SOR150,'o-',linewidth=4, color='yellow',label='SOR1.50')\n",
        "plt.semilogy(SIZE,cpu_time_SOR175,'o-',linewidth=4, color='black',label='SOR1.75')\n",
        "\n",
        "plt.xlabel('Size of the system'  )\n",
        "plt.ylabel('Computation Time')\n",
        "plt.xlim([0,1750])\n",
        "plt.legend(loc=4)\n",
        "plt.show()"
      ],
      "execution_count": 34,
      "outputs": [
        {
          "output_type": "stream",
          "text": [
            "/content/MetodosNumericos2020_3/GaussSeidel.py:40: RuntimeWarning: overflow encountered in double_scalars\n",
            "  x_new[i] = (f[i]-sum1-sum2)/A[i,i]\n",
            "/content/MetodosNumericos2020_3/GaussSeidel.py:35: RuntimeWarning: invalid value encountered in double_scalars\n",
            "  sum1 += A[i,j]*x_new[j]\n",
            "/content/MetodosNumericos2020_3/GaussSeidel.py:38: RuntimeWarning: overflow encountered in double_scalars\n",
            "  sum2 += A[i,j]*x[j]\n",
            "/content/MetodosNumericos2020_3/SOR.py:43: RuntimeWarning: overflow encountered in double_scalars\n",
            "  x_new[i] = omega*x_new[i]+(1-omega)*x[i]\n",
            "/content/MetodosNumericos2020_3/SOR.py:43: RuntimeWarning: invalid value encountered in double_scalars\n",
            "  x_new[i] = omega*x_new[i]+(1-omega)*x[i]\n",
            "/content/MetodosNumericos2020_3/SOR.py:41: RuntimeWarning: overflow encountered in double_scalars\n",
            "  x_new[i] = (f[i]-sum1-sum2)/A[i,i]\n",
            "/content/MetodosNumericos2020_3/GaussSeidel.py:35: RuntimeWarning: overflow encountered in double_scalars\n",
            "  sum1 += A[i,j]*x_new[j]\n",
            "/content/MetodosNumericos2020_3/SOR.py:36: RuntimeWarning: invalid value encountered in double_scalars\n",
            "  sum1 += A[i,j]*x_new[j]\n"
          ],
          "name": "stderr"
        },
        {
          "output_type": "display_data",
          "data": {
            "image/png": "[encoded data removed]",
            "text/plain": [
              "<Figure size 432x288 with 1 Axes>"
            ]
          },
          "metadata": {
            "tags": [],
            "needs_background": "light"
          }
        }
      ]
    },
    {
      "cell_type": "code",
      "metadata": {
        "id": "oupsf6a75xbS",
        "colab_type": "code",
        "colab": {
          "base_uri": "https://localhost:8080/",
          "height": 145
        },
        "outputId": "6414023e-b9b9-4b64-d835-c6e72e774d8e"
      },
      "source": [
        "print (cpu_time_numpy)\n",
        "print(cpu_time_eliminacaodegauss)\n",
        "print(cpu_time_gaussseidel)\n",
        "print(cpu_time_jacobi)\n",
        "print(cpu_time_SOR125)\n",
        "print(cpu_time_SOR150)\n",
        "print(cpu_time_SOR175)"
      ],
      "execution_count": 35,
      "outputs": [
        {
          "output_type": "stream",
          "text": [
            "[9.499999999817987e-05, 0.0002899999999996794, 0.0005710000000007653, 0.07342799999999983]\n",
            "[0.0007559999999990907, 0.18071299999999724, 0.601578, 417.336099]\n",
            "[0.008983999999998105, 0.1301950000000005, 0.42100500000000096, 1.7904359999999997]\n",
            "[5.099999999913507e-05, 6.49999999993156e-05, 0.000181000000001319, 0.0012139999999476458]\n",
            "[0.010116999999997489, 0.08410699999999949, 0.4236830000000005, 1.7521989999999619]\n",
            "[0.014305000000000234, 0.08352299999999957, 0.42941199999999924, 1.7598350000000096]\n",
            "[0.01724800000000215, 0.08546400000000176, 0.4259850000000007, 0.8880649999999832]\n"
          ],
          "name": "stdout"
        }
      ]
    },
    {
      "cell_type": "code",
      "metadata": {
        "id": "piwlfECbez8X",
        "colab_type": "code",
        "colab": {
          "base_uri": "https://localhost:8080/",
          "height": 279
        },
        "outputId": "9c198aeb-3a89-426e-da28-2fecd611f5de"
      },
      "source": [
        "plt.semilogy(SIZE,cpu_time_gaussseidel,'o-',linewidth=4, color='red',label='Gauss Seidel')\n",
        "plt.semilogy(SIZE,cpu_time_SOR125,'o-',linewidth=4, color='magenta',label='SOR1.25')\n",
        "plt.semilogy(SIZE,cpu_time_SOR150,'o-',linewidth=4, color='yellow',label='SOR1.50')\n",
        "plt.semilogy(SIZE,cpu_time_SOR175,'o-',linewidth=4, color='black',label='SOR1.75')\n",
        "\n",
        "plt.xlabel('Size of the system'  )\n",
        "plt.ylabel('Computation Time')\n",
        "plt.xlim([0,1750])\n",
        "plt.legend(loc=4)\n",
        "plt.show()"
      ],
      "execution_count": 36,
      "outputs": [
        {
          "output_type": "display_data",
          "data": {
            "image/png": "[encoded data removed]",
            "text/plain": [
              "<Figure size 432x288 with 1 Axes>"
            ]
          },
          "metadata": {
            "tags": [],
            "needs_background": "light"
          }
        }
      ]
    }
  ]
}