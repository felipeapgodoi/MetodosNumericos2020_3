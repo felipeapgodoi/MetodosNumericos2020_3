{
  "nbformat": 4,
  "nbformat_minor": 0,
  "metadata": {
    "colab": {
      "name": "Cópia de Cópia de ComparaMetodosDeSolucao_FelipeGodoi.ipynb",
      "provenance": [],
      "collapsed_sections": [],
      "authorship_tag": "ABX9TyOZaPKjvnjjOxYofk0lMvNW",
      "include_colab_link": true
    },
    "kernelspec": {
      "name": "python3",
      "display_name": "Python 3"
    }
  },
  "cells": [
    {
      "cell_type": "markdown",
      "metadata": {
        "id": "view-in-github",
        "colab_type": "text"
      },
      "source": [
        "<a href=\"https://colab.research.google.com/github/felipeapgodoi/MetodosNumericos2020_3/blob/master/C%C3%B3pia_de_C%C3%B3pia_de_ComparaMetodosDeSolucao_FelipeGodoi.ipynb\" target=\"_parent\"><img src=\"https://colab.research.google.com/assets/colab-badge.svg\" alt=\"Open In Colab\"/></a>"
      ]
    },
    {
      "cell_type": "code",
      "metadata": {
        "id": "eK9P8bynKAO0",
        "colab_type": "code",
        "colab": {}
      },
      "source": [
        "import numpy as np\n",
        "import numpy.linalg as npla\n",
        "import time\n",
        "import matplotlib.pyplot as plt"
      ],
      "execution_count": 84,
      "outputs": []
    },
    {
      "cell_type": "code",
      "metadata": {
        "id": "pQjysWjVJ9HV",
        "colab_type": "code",
        "colab": {
          "base_uri": "https://localhost:8080/",
          "height": 165
        },
        "outputId": "ff584de7-ac54-4139-d8e0-95e58595e1a2"
      },
      "source": [
        "!git clone https://github.com/felipeapgodoi/MetodosNumericos2020_3 #clonar do Github\n",
        "%cd MetodosNumericos2020_3"
      ],
      "execution_count": 85,
      "outputs": [
        {
          "output_type": "stream",
          "text": [
            "Cloning into 'MetodosNumericos2020_3'...\n",
            "remote: Enumerating objects: 91, done.\u001b[K\n",
            "remote: Counting objects: 100% (91/91), done.\u001b[K\n",
            "remote: Compressing objects: 100% (89/89), done.\u001b[K\n",
            "remote: Total 91 (delta 48), reused 0 (delta 0), pack-reused 0\u001b[K\n",
            "Unpacking objects: 100% (91/91), done.\n",
            "/content/MetodosNumericos2020_3/MetodosNumericos2020_3/MetodosNumericos2020_3/MetodosNumericos2020_3/MetodosNumericos2020_3/MetodosNumericos2020_3/MetodosNumericos2020_3/MetodosNumericos2020_3/MetodosNumericos2020_3/MetodosNumericos2020_3/MetodosNumericos2020_3/MetodosNumericos2020_3/MetodosNumericos2020_3/MetodosNumericos2020_3/MetodosNumericos2020_3/MetodosNumericos2020_3/MetodosNumericos2020_3/MetodosNumericos2020_3/MetodosNumericos2020_3\n"
          ],
          "name": "stdout"
        }
      ]
    },
    {
      "cell_type": "code",
      "metadata": {
        "id": "0T_GJdknKHWA",
        "colab_type": "code",
        "colab": {}
      },
      "source": [
        "from GaussPivot import gauss\n",
        "from GaussSeidel import gauss_seidel\n",
        "from Jacobi import jacobi\n",
        "from Sorteste import SOR\n"
      ],
      "execution_count": 86,
      "outputs": []
    },
    {
      "cell_type": "code",
      "metadata": {
        "id": "agJqchMqIku3",
        "colab_type": "code",
        "colab": {
          "base_uri": "https://localhost:8080/",
          "height": 570
        },
        "outputId": "f124a43a-7704-47be-8705-fcc554656a21"
      },
      "source": [
        "# size of the matrix to be calculated\n",
        "SIZE = [10,50,100,1000]\n",
        "\n",
        "# create list\n",
        "cpu_time_numpy = []\n",
        "cpu_time_eliminacaodegauss = []\n",
        "cpu_time_gaussseidel = []\n",
        "cpu_time_jacobi = []\n",
        "cpu_time_SOR125 = []\n",
        "cpu_time_SOR150 = []\n",
        "cpu_time_SOR175 = []\n",
        "\n",
        "# loop over the size\n",
        "for size in SIZE :\n",
        "  # create the system\n",
        "  A = np.random.rand(size,size)\n",
        "  f = np.random.rand(size)\n",
        "  # nummpy\n",
        "  t0 = time.clock()\n",
        "  w=npla.solve(A,f)\n",
        "  cpu_time_numpy.append(time.clock()-t0)\n",
        "\n",
        "  # mycodeeliminacaodegauss\n",
        "  t0 = time.clock()\n",
        "  x= gauss(A,f)\n",
        "  cpu_time_eliminacaodegauss.append(time.clock()-t0)\n",
        "\n",
        "  # mycodegaussseidel\n",
        "  t0 = time.clock()\n",
        "  x0= np.random.rand(size)\n",
        "  y = gauss_seidel(A,f,x0)\n",
        "  cpu_time_gaussseidel.append(time.clock()-t0)\n",
        "\n",
        "  # mycodejacobi\n",
        "  t0 = time.clock()\n",
        "  z = jacobi(A,f,x)\n",
        "  cpu_time_jacobi.append(time.clock()-t0)\n",
        "\n",
        "  # mycodesor1\n",
        "  t0 = time.clock()\n",
        "  x0= np.random.rand(size)\n",
        "  omega=1.25\n",
        "  x = SOR(A,f,x0,omega)\n",
        "  cpu_time_SOR125.append(time.clock()-t0)\n",
        "\n",
        "  # mycodesor2\n",
        "  t0 = time.clock()\n",
        "  x0= np.random.rand(size)\n",
        "  omega=1.5\n",
        "  x = SOR(A,f,x0,omega)\n",
        "  cpu_time_SOR150.append(time.clock()-t0)\n",
        "\n",
        "  # mycodesor3\n",
        "  t0 = time.clock()\n",
        "  x0= np.random.rand(size)\n",
        "  omega=1.75\n",
        "  x = SOR(A,f,x0,omega)\n",
        "  cpu_time_SOR175.append(time.clock()-t0)\n",
        "\n",
        "# plot the results\n",
        "plt.semilogy(SIZE,cpu_time_numpy,'o-',linewidth=4, color='blue',label='Numpy')\n",
        "plt.semilogy(SIZE,cpu_time_eliminacaodegauss,'o-',linewidth=4, color='green',label='Gauss')\n",
        "plt.semilogy(SIZE,cpu_time_gaussseidel,'o-',linewidth=4, color='red',label='Gauss Seidel')\n",
        "plt.semilogy(SIZE,cpu_time_jacobi,'o-',linewidth=4, color='cyan',label='Jacobi')\n",
        "plt.semilogy(SIZE,cpu_time_SOR125,'o-',linewidth=4, color='magenta',label='SOR1.25')\n",
        "plt.semilogy(SIZE,cpu_time_SOR150,'o-',linewidth=4, color='yellow',label='SOR1.50')\n",
        "plt.semilogy(SIZE,cpu_time_SOR175,'o-',linewidth=4, color='black',label='SOR1.75')\n",
        "\n",
        "plt.xlabel('Size of the system'  )\n",
        "plt.ylabel('Computation Time')\n",
        "plt.xlim([0,1500])\n",
        "plt.legend(loc=1, prop={'size':10})\n",
        "plt.show()"
      ],
      "execution_count": 87,
      "outputs": [
        {
          "output_type": "stream",
          "text": [
            "/content/MetodosNumericos2020_3/GaussSeidel.py:40: RuntimeWarning: overflow encountered in double_scalars\n",
            "  x_new[i] = (f[i]-sum1-sum2)/A[i,i]\n",
            "/content/MetodosNumericos2020_3/GaussSeidel.py:35: RuntimeWarning: invalid value encountered in double_scalars\n",
            "  sum1 += A[i,j]*x_new[j]\n",
            "/content/MetodosNumericos2020_3/Sorteste.py:41: RuntimeWarning: overflow encountered in double_scalars\n",
            "  x_new[i] = (f[i]-sum1-sum2)/A[i,i]\n",
            "/content/MetodosNumericos2020_3/Sorteste.py:43: RuntimeWarning: invalid value encountered in double_scalars\n",
            "  x_new[i] = omega*x_new[i]+(1-omega)*x[i]\n",
            "/content/MetodosNumericos2020_3/GaussSeidel.py:38: RuntimeWarning: overflow encountered in double_scalars\n",
            "  sum2 += A[i,j]*x[j]\n",
            "/content/MetodosNumericos2020_3/Sorteste.py:43: RuntimeWarning: overflow encountered in double_scalars\n",
            "  x_new[i] = omega*x_new[i]+(1-omega)*x[i]\n",
            "/content/MetodosNumericos2020_3/GaussSeidel.py:35: RuntimeWarning: overflow encountered in double_scalars\n",
            "  sum1 += A[i,j]*x_new[j]\n",
            "/content/MetodosNumericos2020_3/Sorteste.py:36: RuntimeWarning: invalid value encountered in double_scalars\n",
            "  sum1 += A[i,j]*x_new[j]\n"
          ],
          "name": "stderr"
        },
        {
          "output_type": "display_data",
          "data": {
            "image/png": "[encoded data removed]",
            "text/plain": [
              "<Figure size 432x288 with 1 Axes>"
            ]
          },
          "metadata": {
            "tags": [],
            "needs_background": "light"
          }
        }
      ]
    },
    {
      "cell_type": "code",
      "metadata": {
        "id": "oupsf6a75xbS",
        "colab_type": "code",
        "colab": {
          "base_uri": "https://localhost:8080/",
          "height": 145
        },
        "outputId": "b464a154-05fc-44ae-8569-3880230d8572"
      },
      "source": [
        "print (cpu_time_numpy)\n",
        "print(cpu_time_eliminacaodegauss)\n",
        "print(cpu_time_gaussseidel)\n",
        "print(cpu_time_jacobi)\n",
        "print(cpu_time_SOR125)\n",
        "print(cpu_time_SOR150)\n",
        "print(cpu_time_SOR175)"
      ],
      "execution_count": 88,
      "outputs": [
        {
          "output_type": "stream",
          "text": [
            "[0.0001770000000078653, 0.0003530000000182554, 0.0006399999999757711, 0.09126200000002882]\n",
            "[0.0006539999999404245, 0.15673400000002857, 0.49221799999997984, 294.1426200000001]\n",
            "[0.00758799999994153, 0.1094630000000052, 0.3986369999998942, 1.419548000000077]\n",
            "[0.00018199999999524152, 9.599999998499698e-05, 0.00023299999998016574, 0.005022999999937383]\n",
            "[0.0068740000000389045, 0.04542100000003302, 0.3882899999999836, 1.411346999999978]\n",
            "[0.00799399999993966, 0.045216999999979635, 0.3668430000000171, 1.3922909999998865]\n",
            "[0.007835999999997512, 0.04764599999998609, 0.3757620000000088, 0.7063430000000608]\n"
          ],
          "name": "stdout"
        }
      ]
    }
  ]
}