{
  "nbformat": 4,
  "nbformat_minor": 0,
  "metadata": {
    "colab": {
      "name": "ProblemaDoLago_FelipeGodoi_SOROmega1_50.ipynb",
      "provenance": [],
      "collapsed_sections": [],
      "authorship_tag": "ABX9TyPP239/4DK5Y+WCYsYvqeE3",
      "include_colab_link": true
    },
    "kernelspec": {
      "name": "python3",
      "display_name": "Python 3"
    }
  },
  "cells": [
    {
      "cell_type": "markdown",
      "metadata": {
        "id": "view-in-github",
        "colab_type": "text"
      },
      "source": [
        "<a href=\"https://colab.research.google.com/github/felipeapgodoi/MetodosNumericos2020_3/blob/master/ProblemaDoLago_FelipeGodoi_SOROmega1_50.ipynb\" target=\"_parent\"><img src=\"https://colab.research.google.com/assets/colab-badge.svg\" alt=\"Open In Colab\"/></a>"
      ]
    },
    {
      "cell_type": "code",
      "metadata": {
        "id": "remAkX_qlBLr",
        "colab_type": "code",
        "colab": {}
      },
      "source": [
        "# Universidade Federal de Uberlândia\n",
        "# Programa de Pós Graduação Em Engenharia Química\n",
        "# Métodos Numéricos Aplicados à Engenharia Química\n",
        "# Aluno: Felipe Augusto Paes de Godoi\n",
        "# Atividade 01: Problema Do Lago\n",
        "# Balanço de massa de PCB nos lagos:\n",
        "# Lago Superior: 72 * Cs = 180\n",
        "# Lago Michigan: 38 * Cm = 810\n",
        "# Lago Huron: 72 * Cs + 38 * Cm - 160 * Ch = -630\n",
        "# Lago Erie: 160 * Ch - 185 * Ce = -2750\n",
        "# Lago Ontario: 185 * Ce - 215 * Co = -3820\n",
        "\n",
        "\n",
        "import numpy as np\n",
        "import time\n",
        "import matplotlib.pyplot as plt\n",
        "import numpy.linalg as nl\n"
      ],
      "execution_count": 1,
      "outputs": []
    },
    {
      "cell_type": "code",
      "metadata": {
        "id": "i0WUMaRMVCAu",
        "colab_type": "code",
        "colab": {
          "base_uri": "https://localhost:8080/",
          "height": 163
        },
        "outputId": "46d6595a-b7e5-4dec-c864-175267282894"
      },
      "source": [
        "!git clone https://github.com/felipeapgodoi/MetodosNumericos2020_3 #clonar do Github\n",
        "%cd MetodosNumericos2020_3"
      ],
      "execution_count": 2,
      "outputs": [
        {
          "output_type": "stream",
          "text": [
            "Cloning into 'MetodosNumericos2020_3'...\n",
            "remote: Enumerating objects: 118, done.\u001b[K\n",
            "remote: Counting objects: 100% (118/118), done.\u001b[K\n",
            "remote: Compressing objects: 100% (116/116), done.\u001b[K\n",
            "remote: Total 118 (delta 61), reused 0 (delta 0), pack-reused 0\u001b[K\n",
            "Receiving objects: 100% (118/118), 169.37 KiB | 2.73 MiB/s, done.\n",
            "Resolving deltas: 100% (61/61), done.\n",
            "/content/MetodosNumericos2020_3\n"
          ],
          "name": "stdout"
        }
      ]
    },
    {
      "cell_type": "code",
      "metadata": {
        "colab_type": "code",
        "id": "J_3pBYmdDp6Y",
        "colab": {}
      },
      "source": [
        "from SOR import SOR"
      ],
      "execution_count": 3,
      "outputs": []
    },
    {
      "cell_type": "code",
      "metadata": {
        "id": "nQAUrcZ7nwbu",
        "colab_type": "code",
        "colab": {
          "base_uri": "https://localhost:8080/",
          "height": 72
        },
        "outputId": "dcf40709-3402-4c45-d4f0-a27913f8a1a9"
      },
      "source": [
        "# create the matrix A\n",
        "A = np. array ([[72.0 ,0.0 ,0.0 ,0.0 ,0.0] ,[0.0 ,38.0 ,0.0 ,0.0 ,0.0] , [72.0 ,38.0 ,-160.0, 0.0 ,0.0] , [0.0 ,0.0 ,160.0 ,-185.0 ,0.0] , [0.0 ,0.0 ,0.0 ,185.0 ,-215.0]])\n",
        "\n",
        "# create the right-hand side\n",
        "f = np. array ([180.0 ,810.0 ,-630.0 ,-2750.0 ,-3820.0])\n",
        "\n",
        "# our initial guess\n",
        "x0 = np.array ([4.5,20.0,15.0,20.0,40.0])\n",
        "omega=1.5\n",
        "# compute the solution\n",
        "x,info, niter   = SOR(A,f,x0,omega)\n",
        "print(x)\n",
        "print('convergiu ?',info )\n",
        "print( 'iteracoes=',niter)\n"
      ],
      "execution_count": 4,
      "outputs": [
        {
          "output_type": "stream",
          "text": [
            "[ 2.5        21.31578947 10.125      23.62162162 38.09302326]\n",
            "convergiu ? convergiu\n",
            "iteracoes= 2\n"
          ],
          "name": "stdout"
        }
      ]
    },
    {
      "cell_type": "code",
      "metadata": {
        "id": "mL0XIC7m79AD",
        "colab_type": "code",
        "colab": {}
      },
      "source": [
        "# Balanço de massa de PCB nos lagos considerando uma corrente de bypass saindo do Lago Michigan para o Lago Ontario\n",
        "# Lago Superior: 72 * Cs = 180\n",
        "# Lago Michigan: 58 * Cm = 810\n",
        "# Lago Huron: 72 * Cs + 38 * Cm - 160 * Ch = -630\n",
        "# Lago Erie: 160 * Ch - 185 * Ce = -2750\n",
        "# Lago Ontario: 20 * Cm + 185 * Ce - 215 * Co = -3820\n"
      ],
      "execution_count": 5,
      "outputs": []
    },
    {
      "cell_type": "code",
      "metadata": {
        "colab_type": "code",
        "id": "xUVkhPpJ8rHY",
        "colab": {
          "base_uri": "https://localhost:8080/",
          "height": 72
        },
        "outputId": "31c8bbe5-74c4-4d2a-ffb5-5efe11390986"
      },
      "source": [
        "# create the matrix A\n",
        "A = np. array ([[72.0 ,0.0 ,0.0 ,0.0 ,0.0] ,[0.0 ,58.0 ,0.0 ,0.0 ,0.0] , [72.0 ,38.0 ,-160.0, 0.0 ,0.0] , [0.0 ,0.0 ,160.0 ,-185.0 ,0.0] , [0.0 ,20.0 ,0.0 ,185.0 ,-215.0]])\n",
        "\n",
        "# create the right-hand side\n",
        "f = np. array ([180.0 ,810.0 ,-630.0 ,-2750.0 ,-3820.0])\n",
        "\n",
        "# our initial guess\n",
        "x0 = np.array ([4.5,20.0,15.0,20.0,40.0])\n",
        "omega=1.5\n",
        "\n",
        "# compute the solution\n",
        "x,info, niter   = SOR(A,f,x0,omega)\n",
        "print(x)\n",
        "print('convergiu ?',info )\n",
        "print( 'iteracoes=',niter)\n"
      ],
      "execution_count": 6,
      "outputs": [
        {
          "output_type": "stream",
          "text": [
            "[ 2.5        13.96551724  8.37931034 22.11183597 38.09302326]\n",
            "convergiu ? convergiu\n",
            "iteracoes= 2\n"
          ],
          "name": "stdout"
        }
      ]
    }
  ]
}