{
  "nbformat": 4,
  "nbformat_minor": 0,
  "metadata": {
    "colab": {
      "name": "ProblemaDoLago_FelipeGodoi_GaussSeidel.ipynb",
      "provenance": [],
      "collapsed_sections": [],
      "authorship_tag": "ABX9TyMrx4l9wktgv1DAZI8w3lrV",
      "include_colab_link": true
    },
    "kernelspec": {
      "name": "python3",
      "display_name": "Python 3"
    }
  },
  "cells": [
    {
      "cell_type": "markdown",
      "metadata": {
        "id": "view-in-github",
        "colab_type": "text"
      },
      "source": [
        "<a href=\"https://colab.research.google.com/github/felipeapgodoi/MetodosNumericos2020_3/blob/master/ProblemaDoLago_FelipeGodoi_GaussSeidel.ipynb\" target=\"_parent\"><img src=\"https://colab.research.google.com/assets/colab-badge.svg\" alt=\"Open In Colab\"/></a>"
      ]
    },
    {
      "cell_type": "code",
      "metadata": {
        "id": "remAkX_qlBLr",
        "colab_type": "code",
        "colab": {}
      },
      "source": [
        "# Universidade Federal de Uberlândia\n",
        "# Programa de Pós Graduação Em Engenharia Química\n",
        "# Métodos Numéricos Aplicados à Engenharia Química\n",
        "# Aluno: Felipe Augusto Paes de Godoi\n",
        "# Atividade 01: Problema Do Lago\n",
        "# Balanço de massa de PCB nos lagos:\n",
        "# Lago Superior: 72 * Cs = 180\n",
        "# Lago Michigan: 38 * Cm = 810\n",
        "# Lago Huron: 72 * Cs + 38 * Cm - 160 * Ch = -630\n",
        "# Lago Erie: 160 * Ch - 185 * Ce = -2750\n",
        "# Lago Ontario: 185 * Ce - 215 * Co = -3820\n",
        "\n",
        "\n",
        "import numpy as np\n",
        "import time\n",
        "import matplotlib.pyplot as plt\n",
        "import numpy.linalg as nl\n"
      ],
      "execution_count": 1,
      "outputs": []
    },
    {
      "cell_type": "code",
      "metadata": {
        "id": "i0WUMaRMVCAu",
        "colab_type": "code",
        "colab": {
          "base_uri": "https://localhost:8080/",
          "height": 163
        },
        "outputId": "20e84b15-c878-40f3-a734-c0ba20879bf5"
      },
      "source": [
        "!git clone https://github.com/felipeapgodoi/MetodosNumericos2020_3 #clonar do Github\n",
        "%cd MetodosNumericos2020_3"
      ],
      "execution_count": 2,
      "outputs": [
        {
          "output_type": "stream",
          "text": [
            "Cloning into 'MetodosNumericos2020_3'...\n",
            "remote: Enumerating objects: 112, done.\u001b[K\n",
            "remote: Counting objects: 100% (112/112), done.\u001b[K\n",
            "remote: Compressing objects: 100% (110/110), done.\u001b[K\n",
            "remote: Total 112 (delta 58), reused 0 (delta 0), pack-reused 0\u001b[K\n",
            "Receiving objects: 100% (112/112), 167.24 KiB | 482.00 KiB/s, done.\n",
            "Resolving deltas: 100% (58/58), done.\n",
            "/content/MetodosNumericos2020_3\n"
          ],
          "name": "stdout"
        }
      ]
    },
    {
      "cell_type": "code",
      "metadata": {
        "colab_type": "code",
        "id": "J_3pBYmdDp6Y",
        "colab": {}
      },
      "source": [
        "from GaussSeidel import gauss_seidel"
      ],
      "execution_count": 3,
      "outputs": []
    },
    {
      "cell_type": "code",
      "metadata": {
        "id": "nQAUrcZ7nwbu",
        "colab_type": "code",
        "colab": {
          "base_uri": "https://localhost:8080/",
          "height": 72
        },
        "outputId": "d59047d4-9f91-4528-a43b-e7e9deadea2d"
      },
      "source": [
        "# create the matrix A\n",
        "A = np. array ([[72.0 ,0.0 ,0.0 ,0.0 ,0.0] ,[0.0 ,38.0 ,0.0 ,0.0 ,0.0] , [72.0 ,38.0 ,-160.0, 0.0 ,0.0] , [0.0 ,0.0 ,160.0 ,-185.0 ,0.0] , [0.0 ,0.0 ,0.0 ,185.0 ,-215.0]])\n",
        "\n",
        "# create the right-hand side\n",
        "f = np. array ([180.0 ,810.0 ,-630.0 ,-2750.0 ,-3820.0])\n",
        "\n",
        "# our initial guess\n",
        "x0 = np.array ([4.5,20.0,15.0,20.0,40.0])\n",
        "\n",
        "# compute the solution\n",
        "x,info, niter   = gauss_seidel(A,f,x0)\n",
        "print(x)\n",
        "print('convergiu ?',info, 'sim se for 1 e nao se for zero' )\n",
        "print( 'iteracoes=',niter)\n"
      ],
      "execution_count": 4,
      "outputs": [
        {
          "output_type": "stream",
          "text": [
            "[ 2.5        21.31578947 10.125      23.62162162 38.09302326]\n",
            "convergiu ? 1 sim se for 1 e nao se for zero\n",
            "iteracoes= 1\n"
          ],
          "name": "stdout"
        }
      ]
    },
    {
      "cell_type": "code",
      "metadata": {
        "id": "mL0XIC7m79AD",
        "colab_type": "code",
        "colab": {}
      },
      "source": [
        "# Balanço de massa de PCB nos lagos considerando uma corrente de bypass saindo do Lago Michigan para o Lago Ontario\n",
        "# Lago Superior: 72 * Cs = 180\n",
        "# Lago Michigan: 58 * Cm = 810\n",
        "# Lago Huron: 72 * Cs + 38 * Cm - 160 * Ch = -630\n",
        "# Lago Erie: 160 * Ch - 185 * Ce = -2750\n",
        "# Lago Ontario: 20 * Cm + 185 * Ce - 215 * Co = -3820\n"
      ],
      "execution_count": 5,
      "outputs": []
    },
    {
      "cell_type": "code",
      "metadata": {
        "colab_type": "code",
        "id": "xUVkhPpJ8rHY",
        "colab": {
          "base_uri": "https://localhost:8080/",
          "height": 72
        },
        "outputId": "7e28290d-6653-474c-8538-fafde92509af"
      },
      "source": [
        "# create the matrix A\n",
        "A = np. array ([[72.0 ,0.0 ,0.0 ,0.0 ,0.0] ,[0.0 ,58.0 ,0.0 ,0.0 ,0.0] , [72.0 ,38.0 ,-160.0, 0.0 ,0.0] , [0.0 ,0.0 ,160.0 ,-185.0 ,0.0] , [0.0 ,20.0 ,0.0 ,185.0 ,-215.0]])\n",
        "\n",
        "# create the right-hand side\n",
        "f = np. array ([180.0 ,810.0 ,-630.0 ,-2750.0 ,-3820.0])\n",
        "\n",
        "# our initial guess\n",
        "x0 = np.array ([4.5,20.0,15.0,20.0,40.0])\n",
        "\n",
        "# compute the solution\n",
        "x,info, niter   = gauss_seidel(A,f,x0)\n",
        "print(x)\n",
        "print('convergiu ?',info, 'sim se for 1 e nao se for zero' )\n",
        "print( 'iteracoes=',niter)\n"
      ],
      "execution_count": 6,
      "outputs": [
        {
          "output_type": "stream",
          "text": [
            "[ 2.5        13.96551724  8.37931034 22.11183597 38.09302326]\n",
            "convergiu ? 1 sim se for 1 e nao se for zero\n",
            "iteracoes= 1\n"
          ],
          "name": "stdout"
        }
      ]
    }
  ]
}