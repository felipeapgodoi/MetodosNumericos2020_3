{
  "nbformat": 4,
  "nbformat_minor": 0,
  "metadata": {
    "colab": {
      "name": "PrimeiroProjetoProblema2_FelipeGodoi.ipynb",
      "provenance": [],
      "collapsed_sections": [],
      "authorship_tag": "ABX9TyNILskoOsEmXuzztMwweGgR",
      "include_colab_link": true
    },
    "kernelspec": {
      "name": "python3",
      "display_name": "Python 3"
    }
  },
  "cells": [
    {
      "cell_type": "markdown",
      "metadata": {
        "id": "view-in-github",
        "colab_type": "text"
      },
      "source": [
        "<a href=\"https://colab.research.google.com/github/felipeapgodoi/MetodosNumericos2020_3/blob/master/PrimeiroProjetoProblema2_FelipeGodoi.ipynb\" target=\"_parent\"><img src=\"https://colab.research.google.com/assets/colab-badge.svg\" alt=\"Open In Colab\"/></a>"
      ]
    },
    {
      "cell_type": "code",
      "metadata": {
        "id": "DL87DbPFCfOe"
      },
      "source": [
        "# Universidade Federal de Uberlândia\n",
        "# Programa de Pós Graduação Em Engenharia Química\n",
        "# Métodos Numéricos Aplicados à Engenharia Química\n",
        "# Aluno: Felipe Augusto Paes de Godoi\n",
        "# Primeiro Projeto: Problema 2\n",
        "# Balanço de massa por componente no processo geral:\n",
        "# Xileno: 0,07 * D1 + 0,18 * B1 + 0,15 * D2 + 0,24 * B2 = 0,15 * 70\n",
        "# Estireno: 0,04 * D1 + 0,24 * B1 + 0,10 * D2 + 0,65 * B2 = 0,25 * 70\n",
        "# Tolueno: 0,54 * D1 + 0,42 * B1 + 0,54 * D2 + 0,10 * B2 = 0,40 * 70\n",
        "# Benzeno: 0,35 * D1 + 0,16 * B1 + 0,21 * D2 + 0,01 * B2 = 0,20 * 70\n"
      ],
      "execution_count": 1,
      "outputs": []
    },
    {
      "cell_type": "code",
      "metadata": {
        "id": "julB6T6uoIKy"
      },
      "source": [
        "import numpy as np\n",
        "\n",
        "########################################################\n",
        "# Function to decompose the matrix\n",
        "# in an upper triangular form\n",
        "########################################################\n",
        "\n",
        "def LU(A,Entradas):\n",
        "  # get the size of the system\n",
        "  n = len(f)\n",
        "  \n",
        "  # check the size\n",
        "  \n",
        "  if (A.shape[0] != n) or (A.shape[1] != n):\n",
        "    print('\\t Inconsistent size in LU decomposition')\n",
        "    info = 0\n",
        "    return M,info\n",
        "\n",
        "  # create the augmented matrix\n",
        "  M = np.zeros((n,n+1))\n",
        "  M[:,:-1] = A\n",
        "  M[:,-1] = f\n",
        "\n",
        "  # loop through all the colum\n",
        "  # to get rid of the lower part\n",
        "  for iC in range(n-1):\n",
        "    # for each column loop over all the lines\n",
        "    # that are below the diagonal\n",
        "    # to set to 0 their elements\n",
        "    for iL in range(iC+1,n):\n",
        "      # check if the diagonal element\n",
        "      # is null\n",
        "      if(M[iC,iC] == 0):\n",
        "        print('\\t Zero on the diagonal, LU failed')\n",
        "        info = 0\n",
        "        return M,info\n",
        "      # eliminate the element\n",
        "      M[iL,:] = M[iL,:] - M[iL,iC]/M[iC,iC] * M[iC,:]\n",
        "\n",
        "   # if we succed we return info = 1 and the upper augmetned matrix\n",
        "\n",
        "  info = 1\n",
        "  return M,info"
      ],
      "execution_count": 2,
      "outputs": []
    },
    {
      "cell_type": "code",
      "metadata": {
        "id": "9xyXSYzjoUz7"
      },
      "source": [
        "########################################################\n",
        "# Function to backsubstitute the results\n",
        "# and get the final solution\n",
        "########################################################\n",
        "def BS(M):\n",
        "  # get the size of the matrix\n",
        "  n = M.shape[0]\n",
        "  # loop over all the lines\n",
        "  # starting by the end\n",
        "  for iL in range(n-1,-1,-1):\n",
        "    # check if we have diagonal elements on the diagonal\n",
        "    if(M[iL,iL] == 0):\n",
        "      print('\\t Zero on the diagonal, LU failed')\n",
        "      info = 0\n",
        "      return M,info\n",
        "    # divide the line by the diagonal element of M\n",
        "    M[iL,:] /= M[iL,iL]\n",
        "    \n",
        "    # loop over all the lines that are above this onef\n",
        "    for iLL in range(iL-1,-1,-1):\n",
        "      M[iLL,:] -= M[iLL,iL]*M[iL,:]\n",
        "\n",
        "  info = 1\n",
        "  x=M[:,n]\n",
        "  return x,info\n",
        "\n",
        "########################################################\n",
        "########################################################"
      ],
      "execution_count": 3,
      "outputs": []
    },
    {
      "cell_type": "code",
      "metadata": {
        "id": "qZbTH64pMXP-",
        "outputId": "4f8f9a8d-21f8-4d52-9d9e-3f7634402408",
        "colab": {
          "base_uri": "https://localhost:8080/"
        }
      },
      "source": [
        "# create the matrix A\n",
        "A = np. array ([[0.07 ,0.18 ,0.15 ,0.24] ,[0.04 ,0.24 ,0.10 ,0.65] , [0.54 ,0.42 ,0.54, 0.10] , [0.35 ,0.16 ,0.21 ,0.01]])\n",
        "\n",
        "# create the right-hand side\n",
        "f = np. array ([0.15 * 70 ,0.25 * 70 ,0.40 * 70 ,0.20 * 70])\n",
        "\n",
        "M,info = LU(A,f)\n",
        "x,info = BS(M)\n",
        "\n",
        "# print the solution\n",
        "print('x=', x)\n",
        "\n",
        "# check the solution\n",
        "check_sol = np.dot(A,x)\n",
        "print('check_solution', check_sol)\n",
        "\n",
        "D1=x[0]\n",
        "B1=x[1]\n",
        "D2=x[2]\n",
        "B2=x[3]\n",
        "\n",
        "print('D1=',D1)\n",
        "print('B1=',B1)\n",
        "print('D2=',D2)\n",
        "print('B2=',B2)\n"
      ],
      "execution_count": 4,
      "outputs": [
        {
          "output_type": "stream",
          "text": [
            "x= [26.25 17.5   8.75 17.5 ]\n",
            "check_solution [10.5 17.5 28.  14. ]\n",
            "D1= 26.24999999999997\n",
            "B1= 17.499999999999783\n",
            "D2= 8.750000000000194\n",
            "B2= 17.50000000000005\n"
          ],
          "name": "stdout"
        }
      ]
    },
    {
      "cell_type": "code",
      "metadata": {
        "id": "pRnpEU8GsPqg",
        "outputId": "47606479-a1f1-4a7e-bd04-eead1cc14097",
        "colab": {
          "base_uri": "https://localhost:8080/"
        }
      },
      "source": [
        "# Balanço de massa por componente na coluna 2:\n",
        "# Xileno: 0,07 * D1 + 0,18 * B1 = xDx * D\n",
        "# Estireno: 0,04 * D1 + 0,24 * B1 = xDs * D\n",
        "# Tolueno: 0,54 * D1 + 0,42 * B1 = xDt * D\n",
        "# Benzeno: 0,35 * D1 + 0,16 * B1 = xDb * D\n",
        "# D = D1 + B1\n",
        "\n",
        "D = D1 + B1\n",
        "xDx = (0.07 * D1 + 0.18 * B1)/D\n",
        "xDs = (0.04 * D1 + 0.24 * B1)/D\n",
        "xDt = (0.54 * D1 + 0.42 * B1)/D\n",
        "xDb = (0.35 * D1 + 0.16 * B1)/D\n",
        "\n",
        "print('Fração molar de xileno na corrente D=',xDx)\n",
        "print('Fração molar de estireno na corrente D=',xDs)\n",
        "print('Fração molar de tolueno na corrente D=',xDt)\n",
        "print('Fração molar de benzeno na corrente D=',xDb)\n"
      ],
      "execution_count": 5,
      "outputs": [
        {
          "output_type": "stream",
          "text": [
            "Fração molar de xileno na corrente D= 0.11399999999999968\n",
            "Fração molar de estireno na corrente D= 0.11999999999999944\n",
            "Fração molar de tolueno na corrente D= 0.49200000000000027\n",
            "Fração molar de benzeno na corrente D= 0.27400000000000047\n"
          ],
          "name": "stdout"
        }
      ]
    },
    {
      "cell_type": "code",
      "metadata": {
        "id": "0aWjpq7nvCsi",
        "outputId": "8e538514-4498-4a16-99a8-ef0a53323d47",
        "colab": {
          "base_uri": "https://localhost:8080/"
        }
      },
      "source": [
        "# Balanço de massa por componente na coluna 3:\n",
        "# Xileno: 0,15 * D2 + 0,24 * B2 = xBx * B\n",
        "# Estireno: 0,10 * D2 + 0,65 * B2 = xBs * B\n",
        "# Tolueno: 0,54 * D2 + 0,10 * B2 = xBt * B\n",
        "# Benzeno: 0,21 * D2 + 0,01 * B2 = xBb * B\n",
        "# B = D2 + B2\n",
        "\n",
        "B = D2 + B2\n",
        "xBx = (0.15 * D2 + 0.24 * B2)/B\n",
        "xBs = (0.10 * D2 + 0.65 * B2)/B\n",
        "xBt = (0.54 * D2 + 0.10 * B2)/B\n",
        "xBb = (0.21 * D2 + 0.01 * B2)/B\n",
        "\n",
        "print('Fração molar de xileno na corrente B=',xBx)\n",
        "print('Fração molar de estireno na corrente B=',xBs)\n",
        "print('Fração molar de tolueno na corrente B=',xBt)\n",
        "print('Fração molar de benzeno na corrente B=',xBb)\n"
      ],
      "execution_count": 6,
      "outputs": [
        {
          "output_type": "stream",
          "text": [
            "Fração molar de xileno na corrente B= 0.20999999999999963\n",
            "Fração molar de estireno na corrente B= 0.46666666666666434\n",
            "Fração molar de tolueno na corrente B= 0.2466666666666686\n",
            "Fração molar de benzeno na corrente B= 0.07666666666666752\n"
          ],
          "name": "stdout"
        }
      ]
    }
  ]
}