{
  "nbformat": 4,
  "nbformat_minor": 0,
  "metadata": {
    "colab": {
      "name": "ProblemaDoLago_FelipeGodoi_EliminacaoGauss_Pivotamento.ipynb",
      "provenance": [],
      "collapsed_sections": [],
      "authorship_tag": "ABX9TyPb+J78IEWmNxbQ9sjIAIsS",
      "include_colab_link": true
    },
    "kernelspec": {
      "name": "python3",
      "display_name": "Python 3"
    }
  },
  "cells": [
    {
      "cell_type": "markdown",
      "metadata": {
        "id": "view-in-github",
        "colab_type": "text"
      },
      "source": [
        "<a href=\"https://colab.research.google.com/github/felipeapgodoi/MetodosNumericos2020_3/blob/master/ProblemaDoLago_FelipeGodoi_EliminacaoGauss_Pivotamento.ipynb\" target=\"_parent\"><img src=\"https://colab.research.google.com/assets/colab-badge.svg\" alt=\"Open In Colab\"/></a>"
      ]
    },
    {
      "cell_type": "code",
      "metadata": {
        "id": "remAkX_qlBLr",
        "colab_type": "code",
        "colab": {}
      },
      "source": [
        "# Universidade Federal de Uberlândia\n",
        "# Programa de Pós Graduação Em Engenharia Química\n",
        "# Métodos Numéricos Aplicados à Engenharia Química\n",
        "# Aluno: Felipe Augusto Paes de Godoi\n",
        "# Atividade 01: Problema Do Lago\n",
        "# Balanço de massa de PCB nos lagos:\n",
        "# Lago Superior: 72 * Cs = 180\n",
        "# Lago Michigan: 38 * Cm = 810\n",
        "# Lago Huron: 72 * Cs + 38 * Cm - 160 * Ch = -630\n",
        "# Lago Erie: 160 * Ch - 185 * Ce = -2750\n",
        "# Lago Ontario: 185 * Ce - 215 * Co = -3820\n",
        "\n",
        "\n",
        "import numpy as np\n",
        "import time\n",
        "import matplotlib.pyplot as plt\n",
        "import numpy.linalg as npla\n"
      ],
      "execution_count": 6,
      "outputs": []
    },
    {
      "cell_type": "code",
      "metadata": {
        "colab_type": "code",
        "id": "RASfhh08Dp5M",
        "colab": {
          "base_uri": "https://localhost:8080/",
          "height": 163
        },
        "outputId": "b77db1ee-590f-478e-a63f-318968716508"
      },
      "source": [
        "!git clone https://github.com/felipeapgodoi/MetodosNumericos2020_3 #clonar do Github\n",
        "%cd MetodosNumericos2020_3"
      ],
      "execution_count": 7,
      "outputs": [
        {
          "output_type": "stream",
          "text": [
            "Cloning into 'MetodosNumericos2020_3'...\n",
            "remote: Enumerating objects: 124, done.\u001b[K\n",
            "remote: Counting objects: 100% (124/124), done.\u001b[K\n",
            "remote: Compressing objects: 100% (122/122), done.\u001b[K\n",
            "remote: Total 124 (delta 65), reused 0 (delta 0), pack-reused 0\u001b[K\n",
            "Receiving objects: 100% (124/124), 170.47 KiB | 6.56 MiB/s, done.\n",
            "Resolving deltas: 100% (65/65), done.\n",
            "/content/MetodosNumericos2020_3/MetodosNumericos2020_3\n"
          ],
          "name": "stdout"
        }
      ]
    },
    {
      "cell_type": "code",
      "metadata": {
        "colab_type": "code",
        "id": "4fQbvW-GDp6T",
        "colab": {
          "base_uri": "https://localhost:8080/",
          "height": 35
        },
        "outputId": "b75df88e-50a4-43a2-cbf1-c7310cd73341"
      },
      "source": [
        "'''\n",
        "# caso fosse no computador\n",
        "import os \n",
        "Local=\"C://Endereco da pasta\"\n",
        "os.chdir(Local) \n",
        "'''"
      ],
      "execution_count": 8,
      "outputs": [
        {
          "output_type": "execute_result",
          "data": {
            "application/vnd.google.colaboratory.intrinsic+json": {
              "type": "string"
            },
            "text/plain": [
              "'\\n# caso fosse no computador\\nimport os \\nLocal=\"C://Endereco da pasta\"\\nos.chdir(Local) \\n'"
            ]
          },
          "metadata": {
            "tags": []
          },
          "execution_count": 8
        }
      ]
    },
    {
      "cell_type": "code",
      "metadata": {
        "colab_type": "code",
        "id": "J_3pBYmdDp6Y",
        "colab": {}
      },
      "source": [
        "from GaussPivot import gauss"
      ],
      "execution_count": 9,
      "outputs": []
    },
    {
      "cell_type": "code",
      "metadata": {
        "id": "nQAUrcZ7nwbu",
        "colab_type": "code",
        "colab": {
          "base_uri": "https://localhost:8080/",
          "height": 54
        },
        "outputId": "c5557091-5627-43fc-a8fb-e85af421632a"
      },
      "source": [
        "# create the matrix A\n",
        "A = np. array ([[72.0 ,0.0 ,0.0 ,0.0 ,0.0] ,[0.0 ,38.0 ,0.0 ,0.0 ,0.0] , [72.0 ,38.0 ,-160.0, 0.0 ,0.0] , [0.0 ,0.0 ,160.0 ,-185.0 ,0.0] , [0.0 ,0.0 ,0.0 ,185.0 ,-215.0]])\n",
        "\n",
        "# create the right-hand side\n",
        "f = np. array ([180.0 ,810.0 ,-630.0 ,-2750.0 ,-3820.0])\n",
        "\n",
        "x= gauss(A,f)\n",
        "\n",
        "# print the solution\n",
        "print(x)\n",
        "\n",
        "# check the solution\n",
        "check_sol = np.dot(A,x)\n",
        "print(check_sol)\n"
      ],
      "execution_count": 10,
      "outputs": [
        {
          "output_type": "stream",
          "text": [
            "[2.5, 21.31578947368421, 10.125, 23.62162162162162, 38.093023255813954]\n",
            "[  180.   810.  -630. -2750. -3820.]\n"
          ],
          "name": "stdout"
        }
      ]
    },
    {
      "cell_type": "code",
      "metadata": {
        "id": "mL0XIC7m79AD",
        "colab_type": "code",
        "colab": {}
      },
      "source": [
        "# Balanço de massa de PCB nos lagos considerando uma corrente de bypass saindo do Lago Michigan para o Lago Ontario\n",
        "# Lago Superior: 72 * Cs = 180\n",
        "# Lago Michigan: 58 * Cm = 810\n",
        "# Lago Huron: 72 * Cs + 38 * Cm - 160 * Ch = -630\n",
        "# Lago Erie: 160 * Ch - 185 * Ce = -2750\n",
        "# Lago Ontario: 20 * Cm + 185 * Ce - 215 * Co = -3820\n"
      ],
      "execution_count": 11,
      "outputs": []
    },
    {
      "cell_type": "code",
      "metadata": {
        "colab_type": "code",
        "id": "xUVkhPpJ8rHY",
        "colab": {
          "base_uri": "https://localhost:8080/",
          "height": 54
        },
        "outputId": "936667c7-b5bf-45c8-950a-ac55dfb587cc"
      },
      "source": [
        "# create the matrix A\n",
        "A = np. array ([[72.0 ,0.0 ,0.0 ,0.0 ,0.0] ,[0.0 ,58.0 ,0.0 ,0.0 ,0.0] , [72.0 ,38.0 ,-160.0, 0.0 ,0.0] , [0.0 ,0.0 ,160.0 ,-185.0 ,0.0] , [0.0 ,20.0 ,0.0 ,185.0 ,-215.0]])\n",
        "\n",
        "# create the right-hand side\n",
        "f = np. array ([180.0 ,810.0 ,-630.0 ,-2750.0 ,-3820.0])\n",
        "\n",
        "x= gauss(A,f)\n",
        "\n",
        "# print the solution\n",
        "print(x)\n",
        "\n",
        "# check the solution\n",
        "check_sol = np.dot(A,x)\n",
        "print(check_sol)\n"
      ],
      "execution_count": 12,
      "outputs": [
        {
          "output_type": "stream",
          "text": [
            "[2.5, 13.96551724137931, 8.379310344827585, 22.11183597390494, 38.093023255813954]\n",
            "[  180.   810.  -630. -2750. -3820.]\n"
          ],
          "name": "stdout"
        }
      ]
    }
  ]
}