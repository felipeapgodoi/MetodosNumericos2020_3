{
  "nbformat": 4,
  "nbformat_minor": 0,
  "metadata": {
    "colab": {
      "name": "TerceiraAula_Metodos Numericos2020_3.ipynb",
      "provenance": [],
      "authorship_tag": "ABX9TyPrndTMXsw+OTAWagzb29n6",
      "include_colab_link": true
    },
    "kernelspec": {
      "name": "python3",
      "display_name": "Python 3"
    }
  },
  "cells": [
    {
      "cell_type": "markdown",
      "metadata": {
        "id": "view-in-github",
        "colab_type": "text"
      },
      "source": [
        "<a href=\"https://colab.research.google.com/github/felipeapgodoi/MetodosNumericos2020_3/blob/master/TerceiraAula_Metodos_Numericos2020_3.ipynb\" target=\"_parent\"><img src=\"https://colab.research.google.com/assets/colab-badge.svg\" alt=\"Open In Colab\"/></a>"
      ]
    },
    {
      "cell_type": "code",
      "metadata": {
        "id": "RpIgG1JDr0m5",
        "colab_type": "code",
        "colab": {
          "base_uri": "https://localhost:8080/",
          "height": 136
        },
        "outputId": "1e13a591-2c78-4b2f-a0aa-a2845302ce6e"
      },
      "source": [
        "!git clone https://github.com/ucfilho/Disciplina_Metodos_Numericos_2020 #clonar do Github\n",
        "%cd Disciplina_Metodos_Numericos_2020"
      ],
      "execution_count": 1,
      "outputs": [
        {
          "output_type": "stream",
          "text": [
            "Cloning into 'Disciplina_Metodos_Numericos_2020'...\n",
            "remote: Enumerating objects: 71, done.\u001b[K\n",
            "remote: Counting objects: 100% (71/71), done.\u001b[K\n",
            "remote: Compressing objects: 100% (69/69), done.\u001b[K\n",
            "remote: Total 71 (delta 37), reused 0 (delta 0), pack-reused 0\u001b[K\n",
            "Unpacking objects: 100% (71/71), done.\n",
            "/content/Disciplina_Metodos_Numericos_2020\n"
          ],
          "name": "stdout"
        }
      ]
    },
    {
      "cell_type": "code",
      "metadata": {
        "id": "LRAHTWDWs5kq",
        "colab_type": "code",
        "colab": {}
      },
      "source": [
        "# linhas acima para acessar o conteudo da pasta Disciplina_Metodos_Numericos_2020"
      ],
      "execution_count": 2,
      "outputs": []
    },
    {
      "cell_type": "code",
      "metadata": {
        "id": "bzXDICSFtPK0",
        "colab_type": "code",
        "colab": {}
      },
      "source": [
        "from ListaNN import Lista"
      ],
      "execution_count": 3,
      "outputs": []
    },
    {
      "cell_type": "code",
      "metadata": {
        "id": "xsXLH-C2tdQw",
        "colab_type": "code",
        "colab": {
          "base_uri": "https://localhost:8080/",
          "height": 34
        },
        "outputId": "9ddc3f86-924a-40e8-ec81-2cf4b96bd950"
      },
      "source": [
        "n=4\n",
        "w=Lista(n)\n",
        "print(w)"
      ],
      "execution_count": 4,
      "outputs": [
        {
          "output_type": "stream",
          "text": [
            "[[0, 1, 2, 3], [0, 1, 2, 3], [0, 1, 2, 3], [0, 1, 2, 3]]\n"
          ],
          "name": "stdout"
        }
      ]
    },
    {
      "cell_type": "code",
      "metadata": {
        "id": "a0WgVS8Gu-5K",
        "colab_type": "code",
        "colab": {
          "base_uri": "https://localhost:8080/",
          "height": 34
        },
        "outputId": "a22efa5c-783d-4faf-9fbc-4a6393477551"
      },
      "source": [
        "m=1\n",
        "if(m>2):\n",
        "  print('valor maior que 2')\n",
        "else:\n",
        "  print('valor menor ou igual que 2')"
      ],
      "execution_count": 6,
      "outputs": [
        {
          "output_type": "stream",
          "text": [
            "valor menor ou igual que 2\n"
          ],
          "name": "stdout"
        }
      ]
    },
    {
      "cell_type": "code",
      "metadata": {
        "id": "jtUSo8OrwXxR",
        "colab_type": "code",
        "colab": {
          "base_uri": "https://localhost:8080/",
          "height": 34
        },
        "outputId": "f62bdd4a-935c-46ab-bf96-98fc79d243a4"
      },
      "source": [
        "m=6\n",
        "if(m>7):\n",
        "  print('valor maior que 7')\n",
        "elif(m>5):\n",
        "  print('valor entre 5 e 7')\n",
        "else:\n",
        "  print('valor menor ou igual a 5')\n"
      ],
      "execution_count": 10,
      "outputs": [
        {
          "output_type": "stream",
          "text": [
            "valor entre 5 e 7\n"
          ],
          "name": "stdout"
        }
      ]
    },
    {
      "cell_type": "code",
      "metadata": {
        "id": "arlyOa_tyAt5",
        "colab_type": "code",
        "colab": {
          "base_uri": "https://localhost:8080/",
          "height": 187
        },
        "outputId": "21affec6-d576-4c0e-f3b6-4824b6bb06d1"
      },
      "source": [
        "mm=10\n",
        "cont=0\n",
        "while(cont<mm):\n",
        "  cont=cont+1\n",
        "  print(cont)"
      ],
      "execution_count": 11,
      "outputs": [
        {
          "output_type": "stream",
          "text": [
            "1\n",
            "2\n",
            "3\n",
            "4\n",
            "5\n",
            "6\n",
            "7\n",
            "8\n",
            "9\n",
            "10\n"
          ],
          "name": "stdout"
        }
      ]
    }
  ]
}