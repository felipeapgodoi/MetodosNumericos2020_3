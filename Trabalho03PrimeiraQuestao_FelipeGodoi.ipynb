{
  "nbformat": 4,
  "nbformat_minor": 0,
  "metadata": {
    "colab": {
      "name": "Cópia de Trabalho3Questao1PrimeiraTentativa.ipynb",
      "provenance": [],
      "collapsed_sections": [],
      "authorship_tag": "ABX9TyOJGq6YSH1aTkS4HKulHbUe",
      "include_colab_link": true
    },
    "kernelspec": {
      "name": "python3",
      "display_name": "Python 3"
    }
  },
  "cells": [
    {
      "cell_type": "markdown",
      "metadata": {
        "id": "view-in-github",
        "colab_type": "text"
      },
      "source": [
        "<a href=\"https://colab.research.google.com/github/felipeapgodoi/MetodosNumericos2020_3/blob/master/Trabalho03PrimeiraQuestao_FelipeGodoi.ipynb\" target=\"_parent\"><img src=\"https://colab.research.google.com/assets/colab-badge.svg\" alt=\"Open In Colab\"/></a>"
      ]
    },
    {
      "cell_type": "code",
      "metadata": {
        "id": "naYfaRSecUEq",
        "colab_type": "code",
        "colab": {
          "base_uri": "https://localhost:8080/",
          "height": 35
        },
        "outputId": "d31c679c-2c13-4878-e071-e47c4f7ae82e"
      },
      "source": [
        "# Universidade Federal de Uberlândia\n",
        "# Programa de Pós Graduação Em Engenharia Química\n",
        "# Métodos Numéricos Aplicados à Engenharia Química\n",
        "# Aluno: Felipe Augusto Paes de Godoi\n",
        "# Atividade 03: Questão 1-Encontre o volume específico do n-butano a 500 K e 18 atm\n",
        "# Equação de Redlich-Kwong\n",
        "# p = R*T/(v-b)-a/(T**0.5*v*(v+b))\n",
        "# Equação cúbica em termos de v:\n",
        "# p*v**3-R*T*v**2+((a/T**0.5)-p*b**2-R*T*b)*v-a*b/T**0.5=0\n",
        "# a=0.42748*R**2*Tc**2.5/pc\n",
        "# b=0.08664*R*Tc/pc\n",
        "\n",
        "def bisection(f, x_L, x_R, eps,num):\n",
        "    f_L = f(x_L)\n",
        "    if f_L*f(x_R) > 0:\n",
        "        print( \"Error! Function does not have opposite signs at interval endpoints!\")\n",
        "        sys.exit(1)\n",
        "    x_M = float(x_L + x_R)/2.0\n",
        "    f_M = f(x_M)\n",
        "    iteration_counter = 1\n",
        "\n",
        "\n",
        "    while abs(f_M) > eps:\n",
        "        if f_L*f_M > 0:   # i.e. same sign\n",
        "            x_L = x_M\n",
        "            f_L = f_M\n",
        "        else:\n",
        "            x_R = x_M\n",
        "        x_M = float(x_L + x_R)/2\n",
        "        f_M = f(x_M)\n",
        "        iteration_counter += 1\n",
        "\n",
        "        if(iteration_counter>num):\n",
        "          break\n",
        "\n",
        "    return x_M, iteration_counter\n",
        "\n",
        "def f(x):\n",
        "  \n",
        "  pc=37.5\n",
        "  Tc=425.2\n",
        "  R=0.08206\n",
        "  T=500\n",
        "  p=18\n",
        "  a=0.42748*R**2*Tc**2.5/pc\n",
        "  b=0.08664*R*Tc/pc\n",
        "\n",
        "  return p*x**3-R*T*x**2+((a/T**0.5)-p*b**2-R*T*b)*x-a*b/T**0.5\n",
        "\n",
        "xl = 1.0;   xd = 5.0; total=200;eps=1.0e-6\n",
        "\n",
        "solution, no_iterations = bisection(f, xl, xd ,eps ,total)\n",
        "print('solution=', solution, 'no_iterations=',no_iterations)\n"
      ],
      "execution_count": 1,
      "outputs": [
        {
          "output_type": "stream",
          "text": [
            "solution= 2.037688732147217 no_iterations= 23\n"
          ],
          "name": "stdout"
        }
      ]
    },
    {
      "cell_type": "code",
      "metadata": {
        "id": "Wwo7HnGOfy-Y",
        "colab_type": "code",
        "colab": {
          "base_uri": "https://localhost:8080/",
          "height": 54
        },
        "outputId": "a70f372b-3fde-4380-b91d-5a9a10eba4c9"
      },
      "source": [
        "# Equação de Peng-Robinson\n",
        "# p = R*T/(v-b)-a*alfa/(v*(v+b)+b*(v-b))\n",
        "# Equação cúbica em termos de v:\n",
        "# p*v**3+(p*b-R*T)*v**2+(a*alfa-3*p*b**2-2*R*T*b)*v+(p*b**3+R*T*b**2-a*alfa*b)=0\n",
        "# a=0.45724*R**2*Tc**2/pc\n",
        "# b=0.07780*R*Tc/pc\n",
        "# k=0.37464+1.54226*w-0.26992*w**2\n",
        "# alfa=(1+k*(1-(T/Tc)**0.5))**2\n",
        "# w:fator acêntrico\n",
        "\n",
        "def secant(f, x0, x1, eps):\n",
        "    f_x0 = f(x0)\n",
        "    f_x1 = f(x1)\n",
        "    iteration_counter = 0\n",
        "    while abs(f_x1) > eps and iteration_counter < 100:\n",
        "        try:\n",
        "            denominator = float(f_x1 - f_x0)/(x1 - x0)\n",
        "            x = x1 - float(f_x1)/denominator\n",
        "        except ZeroDivisionError:\n",
        "            print(\"Error! - denominator zero for x = \", x) \n",
        "            sys.exit(1)     # Abort with error\n",
        "        x0 = x1\n",
        "        x1 = x\n",
        "        f_x0 = f_x1\n",
        "        f_x1 = f(x1)\n",
        "        iteration_counter += 1\n",
        "    # Here, either a solution is found, or too many iterations\n",
        "    if abs(f_x1) > eps:\n",
        "        iteration_counter = -1\n",
        "    return x, iteration_counter\n",
        "\n",
        "def f(x):\n",
        "  \n",
        "  pc=37.5\n",
        "  Tc=425.2\n",
        "  R=0.08206\n",
        "  T=500\n",
        "  p=18\n",
        "  a=0.45724*R**2*Tc**2/pc\n",
        "  b=0.07780*R*Tc/pc\n",
        "  w=0.193\n",
        "  k=0.37464+1.54226*w-0.26992*w**2\n",
        "  alfa=(1+k*(1-(T/Tc)**0.5))**2\n",
        "  \n",
        "  return p*x**3+(p*b-R*T)*x**2+(a*alfa-3*p*b**2-2*R*T*b)*x+(p*b**3+R*T*b**2-a*alfa*b)\n",
        "\n",
        "x0 = 5.0;   x1 = x0 - 1\n",
        "\n",
        "solution, no_iterations = secant(f, x0, x1, eps=1.0e-6)\n",
        "\n",
        "if no_iterations > 0:    # Solution found\n",
        "    print(\"Number of function calls: %d\" % (2 + no_iterations))\n",
        "    print(\"A solution is: %f\" % (solution))\n",
        "else:\n",
        "    print(\"Solution not found!\")"
      ],
      "execution_count": 2,
      "outputs": [
        {
          "output_type": "stream",
          "text": [
            "Number of function calls: 11\n",
            "A solution is: 2.024735\n"
          ],
          "name": "stdout"
        }
      ]
    }
  ]
}